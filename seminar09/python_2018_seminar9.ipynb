{
 "cells": [
  {
   "cell_type": "markdown",
   "metadata": {
    "deletable": true,
    "editable": true
   },
   "source": [
    "# Специальные методы классов"
   ]
  },
  {
   "cell_type": "code",
   "execution_count": 10,
   "metadata": {
    "collapsed": true,
    "deletable": true,
    "editable": true
   },
   "outputs": [],
   "source": [
    "import random\n",
    "\n",
    "class Vector:        \n",
    "    def __init__(self, x=0, y=0, color=None):\n",
    "        print(\"initializing a vector\")\n",
    "        if type(x) != int or type(y) != int:\n",
    "            raise AttributeError('x and y should be int')\n",
    "        \n",
    "        self._x = x\n",
    "        self._y = y\n",
    "        self._color = color\n",
    "    \n",
    "    def get_x(self):\n",
    "        return self._x\n",
    "    \n",
    "    def get_y(self):\n",
    "        return self._y"
   ]
  },
  {
   "cell_type": "markdown",
   "metadata": {
    "deletable": true,
    "editable": true
   },
   "source": [
    "Методы с двойным подчеркиванием в начале и конце имени имеют особое значение. \n",
    "\n",
    "Мы уже знакомы с `__next__` и `__iter__`, пора узнать и об остальных"
   ]
  },
  {
   "cell_type": "code",
   "execution_count": 11,
   "metadata": {
    "collapsed": false,
    "deletable": true,
    "editable": true
   },
   "outputs": [
    {
     "name": "stdout",
     "output_type": "stream",
     "text": [
      "initializing a vector\n"
     ]
    },
    {
     "data": {
      "text/plain": [
       "'<__main__.Vector object at 0x108b586d8>'"
      ]
     },
     "execution_count": 11,
     "metadata": {},
     "output_type": "execute_result"
    }
   ],
   "source": [
    "vector = Vector(1, 2, 'red')\n",
    "str(vector)"
   ]
  },
  {
   "cell_type": "code",
   "execution_count": 12,
   "metadata": {
    "collapsed": true,
    "deletable": true,
    "editable": true
   },
   "outputs": [],
   "source": [
    "class VectorWithStr(Vector):\n",
    "    def __str__(self):\n",
    "        return 'vector ({}, {}) of color {}'.format(self._x, self._y, self._color)"
   ]
  },
  {
   "cell_type": "code",
   "execution_count": 13,
   "metadata": {
    "collapsed": false,
    "deletable": true,
    "editable": true
   },
   "outputs": [
    {
     "name": "stdout",
     "output_type": "stream",
     "text": [
      "initializing a vector\n"
     ]
    },
    {
     "data": {
      "text/plain": [
       "'vector (1, 2) of color red'"
      ]
     },
     "execution_count": 13,
     "metadata": {},
     "output_type": "execute_result"
    }
   ],
   "source": [
    "vector = VectorWithStr(1, 2, 'red')\n",
    "str(vector)"
   ]
  },
  {
   "cell_type": "markdown",
   "metadata": {
    "deletable": true,
    "editable": true
   },
   "source": [
    "__Q:__ Преобразование в строку? Это всё?\n",
    "\n",
    "__A:__ Конечно, нет. Неявные преобразования иногда происходят там, где мы их не ожидаем"
   ]
  },
  {
   "cell_type": "code",
   "execution_count": 14,
   "metadata": {
    "collapsed": false,
    "deletable": true,
    "editable": true
   },
   "outputs": [
    {
     "name": "stdout",
     "output_type": "stream",
     "text": [
      "vector (1, 2) of color red\n"
     ]
    }
   ],
   "source": [
    "print(vector)"
   ]
  },
  {
   "cell_type": "code",
   "execution_count": 15,
   "metadata": {
    "collapsed": false,
    "deletable": true,
    "editable": true
   },
   "outputs": [
    {
     "name": "stdout",
     "output_type": "stream",
     "text": [
      "OBJECT: vector (1, 2) of color red\n"
     ]
    }
   ],
   "source": [
    "print(\"OBJECT: {}\".format(vector))"
   ]
  },
  {
   "cell_type": "code",
   "execution_count": 16,
   "metadata": {
    "collapsed": false,
    "deletable": true,
    "editable": true
   },
   "outputs": [
    {
     "ename": "KeyError",
     "evalue": "<__main__.VectorWithStr object at 0x108b58c88>",
     "output_type": "error",
     "traceback": [
      "\u001b[0;31m---------------------------------------------------------------------------\u001b[0m",
      "\u001b[0;31mKeyError\u001b[0m                                  Traceback (most recent call last)",
      "\u001b[0;32m<ipython-input-16-d9f5ce0c6c45>\u001b[0m in \u001b[0;36m<module>\u001b[0;34m()\u001b[0m\n\u001b[1;32m      1\u001b[0m \u001b[0mmydict\u001b[0m \u001b[0;34m=\u001b[0m \u001b[0;34m{\u001b[0m\u001b[0;34m}\u001b[0m\u001b[0;34m\u001b[0m\u001b[0m\n\u001b[0;32m----> 2\u001b[0;31m \u001b[0mmydict\u001b[0m\u001b[0;34m[\u001b[0m\u001b[0mvector\u001b[0m\u001b[0;34m]\u001b[0m\u001b[0;34m\u001b[0m\u001b[0m\n\u001b[0m",
      "\u001b[0;31mKeyError\u001b[0m: <__main__.VectorWithStr object at 0x108b58c88>"
     ]
    }
   ],
   "source": [
    "mydict = {}\n",
    "mydict[vector]"
   ]
  },
  {
   "cell_type": "code",
   "execution_count": 17,
   "metadata": {
    "collapsed": false,
    "deletable": true,
    "editable": true
   },
   "outputs": [
    {
     "name": "stdout",
     "output_type": "stream",
     "text": [
      "[<__main__.VectorWithStr object at 0x108b58c88>]\n"
     ]
    }
   ],
   "source": [
    "mylist = [vector]\n",
    "print(mylist)"
   ]
  },
  {
   "cell_type": "markdown",
   "metadata": {
    "deletable": true,
    "editable": true
   },
   "source": [
    "__Q:__ А откуда опять \"некрасивые\" строки?!\n",
    "\n",
    "__A:__ В питоне используется два способа приведения к строке. Это функции `str` и `repr`, которые отличаются своим назначением. \n",
    "\n",
    "`str` используется там, где нужна человекочитаемость, а `repr` реализуется так, чтобы можно было однозначно определить, о каком объекте идет речь. Если `repr` не реализован, используется стандартный вариант, а если не реализован `str`, то вместо него используется `repr`. \n",
    "\n",
    "Попробуем?"
   ]
  },
  {
   "cell_type": "code",
   "execution_count": 18,
   "metadata": {
    "collapsed": true,
    "deletable": true,
    "editable": true
   },
   "outputs": [],
   "source": [
    "class VectorWithRepr(Vector):\n",
    "    def __repr__(self):\n",
    "        return 'vector representation (x: {}, y: {}, color: {})'.format(self._x, self._y, self._color)"
   ]
  },
  {
   "cell_type": "code",
   "execution_count": 19,
   "metadata": {
    "collapsed": false,
    "deletable": true,
    "editable": true
   },
   "outputs": [
    {
     "name": "stdout",
     "output_type": "stream",
     "text": [
      "initializing a vector\n",
      "vector representation (x: 1, y: 2, color: red)\n",
      "[vector representation (x: 1, y: 2, color: red)]\n"
     ]
    },
    {
     "ename": "KeyError",
     "evalue": "vector representation (x: 1, y: 2, color: red)",
     "output_type": "error",
     "traceback": [
      "\u001b[0;31m---------------------------------------------------------------------------\u001b[0m",
      "\u001b[0;31mKeyError\u001b[0m                                  Traceback (most recent call last)",
      "\u001b[0;32m<ipython-input-19-54527515abe6>\u001b[0m in \u001b[0;36m<module>\u001b[0;34m()\u001b[0m\n\u001b[1;32m      5\u001b[0m \u001b[0mprint\u001b[0m\u001b[0;34m(\u001b[0m\u001b[0mmylist\u001b[0m\u001b[0;34m)\u001b[0m\u001b[0;34m\u001b[0m\u001b[0m\n\u001b[1;32m      6\u001b[0m \u001b[0mmydict\u001b[0m \u001b[0;34m=\u001b[0m \u001b[0;34m{\u001b[0m\u001b[0;34m}\u001b[0m\u001b[0;34m\u001b[0m\u001b[0m\n\u001b[0;32m----> 7\u001b[0;31m \u001b[0mmydict\u001b[0m\u001b[0;34m[\u001b[0m\u001b[0mvector\u001b[0m\u001b[0;34m]\u001b[0m\u001b[0;34m\u001b[0m\u001b[0m\n\u001b[0m",
      "\u001b[0;31mKeyError\u001b[0m: vector representation (x: 1, y: 2, color: red)"
     ]
    }
   ],
   "source": [
    "vector = VectorWithRepr(1, 2, 'red')\n",
    "\n",
    "print(vector)\n",
    "mylist = [vector]\n",
    "print(mylist)\n",
    "mydict = {}\n",
    "mydict[vector]"
   ]
  },
  {
   "cell_type": "code",
   "execution_count": 20,
   "metadata": {
    "collapsed": true,
    "deletable": true,
    "editable": true
   },
   "outputs": [],
   "source": [
    "class VectorWithBothReprAndStr(VectorWithRepr, VectorWithStr):\n",
    "    pass"
   ]
  },
  {
   "cell_type": "code",
   "execution_count": 21,
   "metadata": {
    "collapsed": false,
    "deletable": true,
    "editable": true
   },
   "outputs": [
    {
     "name": "stdout",
     "output_type": "stream",
     "text": [
      "initializing a vector\n",
      "vector (1, 2) of color red\n",
      "[vector representation (x: 1, y: 2, color: red)]\n"
     ]
    }
   ],
   "source": [
    "vector = VectorWithBothReprAndStr(1, 2, 'red')\n",
    "# вот здесь должны получиться разные значения\n",
    "print(vector)\n",
    "print([vector])"
   ]
  },
  {
   "cell_type": "markdown",
   "metadata": {
    "deletable": true,
    "editable": true
   },
   "source": [
    "## Арифметика"
   ]
  },
  {
   "cell_type": "code",
   "execution_count": 22,
   "metadata": {
    "collapsed": false,
    "deletable": true,
    "editable": true
   },
   "outputs": [],
   "source": [
    "import math\n",
    "import random\n",
    "\n",
    "class VectorWithMath(VectorWithBothReprAndStr):    \n",
    "    def __abs__(self):\n",
    "        return math.hypot(self._x, self._y)\n",
    "    \n",
    "    def __add__(self, other):\n",
    "        return VectorWithMath(self.get_x() + other.get_x(),\n",
    "                     self.get_y() + other.get_y(),\n",
    "                     random.choice((str(self._color), str(other._color))))\n",
    "    \n",
    "    def __sub__(self, other):\n",
    "        return VectorWithMath(self.get_x() - other.get_x(),\n",
    "                     self.get_y() - other.get_y(),\n",
    "                     random.choice((str(self._color), str(other._color))))\n",
    "    \n",
    "    # ещё есть div, mul и многое другое"
   ]
  },
  {
   "cell_type": "code",
   "execution_count": 23,
   "metadata": {
    "collapsed": false,
    "deletable": true,
    "editable": true
   },
   "outputs": [
    {
     "name": "stdout",
     "output_type": "stream",
     "text": [
      "initializing a vector\n",
      "initializing a vector\n"
     ]
    }
   ],
   "source": [
    "vector1 = VectorWithMath(3, 4, 'blue')\n",
    "vector2 = VectorWithMath(1, 2, 'red')"
   ]
  },
  {
   "cell_type": "code",
   "execution_count": 24,
   "metadata": {
    "collapsed": false,
    "deletable": true,
    "editable": true
   },
   "outputs": [
    {
     "name": "stdout",
     "output_type": "stream",
     "text": [
      "5.0\n",
      "initializing a vector\n",
      "vector (4, 6) of color red\n"
     ]
    }
   ],
   "source": [
    "print(abs(vector1))\n",
    "print(vector1 + vector2)"
   ]
  },
  {
   "cell_type": "markdown",
   "metadata": {
    "deletable": true,
    "editable": true
   },
   "source": [
    "## Приведение типов"
   ]
  },
  {
   "cell_type": "code",
   "execution_count": 25,
   "metadata": {
    "collapsed": false,
    "deletable": true,
    "editable": true
   },
   "outputs": [],
   "source": [
    "import math\n",
    "\n",
    "class VectorWithTypes(VectorWithMath):\n",
    "    def __bool__(self):\n",
    "        return bool(self._x) or bool(self._y)\n",
    "    \n",
    "    def __int__(self):\n",
    "        return int(float(self))\n",
    "    \n",
    "    def __float__(self):\n",
    "        return abs(self)"
   ]
  },
  {
   "cell_type": "code",
   "execution_count": 26,
   "metadata": {
    "collapsed": false,
    "deletable": true,
    "editable": true
   },
   "outputs": [
    {
     "name": "stdout",
     "output_type": "stream",
     "text": [
      "initializing a vector\n",
      "vector (3, 4) of color blue\n",
      "5\n",
      "5.0\n",
      "vector ~ True\n"
     ]
    }
   ],
   "source": [
    "vector = VectorWithTypes(3, 4, 'blue')\n",
    "print(vector)\n",
    "print(int(vector))\n",
    "print(float(vector))\n",
    "if vector:\n",
    "    print(\"vector ~ True\")"
   ]
  },
  {
   "cell_type": "code",
   "execution_count": 27,
   "metadata": {
    "collapsed": false,
    "deletable": true,
    "editable": true
   },
   "outputs": [
    {
     "name": "stdout",
     "output_type": "stream",
     "text": [
      "initializing a vector\n",
      "vector (0, 0) of color None\n",
      "vector ~ False\n"
     ]
    }
   ],
   "source": [
    "vector = VectorWithTypes()\n",
    "print(vector)\n",
    "if not vector:\n",
    "    print(\"vector ~ False\")"
   ]
  },
  {
   "cell_type": "markdown",
   "metadata": {
    "deletable": true,
    "editable": true
   },
   "source": [
    "## Итерирование"
   ]
  },
  {
   "cell_type": "markdown",
   "metadata": {
    "deletable": true,
    "editable": true
   },
   "source": [
    "Один способ сделать объект \"итерабельным\" нам уже известен, это метод `__next__`. Но он не единственный"
   ]
  },
  {
   "cell_type": "code",
   "execution_count": 28,
   "metadata": {
    "collapsed": true,
    "deletable": true,
    "editable": true
   },
   "outputs": [],
   "source": [
    "class VectorIterable(VectorWithTypes):\n",
    "    def __getitem__(self, position):\n",
    "        return (self._x, self._y)[position]\n",
    "    \n",
    "    def __len__(self):\n",
    "        return 2\n",
    "    \n",
    "    def __reversed__(self):\n",
    "        return (self._x, self._y)[::-1]"
   ]
  },
  {
   "cell_type": "code",
   "execution_count": 29,
   "metadata": {
    "collapsed": false,
    "deletable": true,
    "editable": true
   },
   "outputs": [
    {
     "name": "stdout",
     "output_type": "stream",
     "text": [
      "initializing a vector\n"
     ]
    },
    {
     "ename": "IndexError",
     "evalue": "tuple index out of range",
     "output_type": "error",
     "traceback": [
      "\u001b[0;31m---------------------------------------------------------------------------\u001b[0m",
      "\u001b[0;31mIndexError\u001b[0m                                Traceback (most recent call last)",
      "\u001b[0;32m<ipython-input-29-d9e87a6b185c>\u001b[0m in \u001b[0;36m<module>\u001b[0;34m()\u001b[0m\n\u001b[1;32m      1\u001b[0m \u001b[0mvector\u001b[0m \u001b[0;34m=\u001b[0m \u001b[0mVectorIterable\u001b[0m\u001b[0;34m(\u001b[0m\u001b[0;36m100\u001b[0m\u001b[0;34m,\u001b[0m \u001b[0;36m500\u001b[0m\u001b[0;34m)\u001b[0m\u001b[0;34m\u001b[0m\u001b[0m\n\u001b[1;32m      2\u001b[0m \u001b[0mvector\u001b[0m\u001b[0;34m[\u001b[0m\u001b[0;36m0\u001b[0m\u001b[0;34m]\u001b[0m\u001b[0;34m\u001b[0m\u001b[0m\n\u001b[0;32m----> 3\u001b[0;31m \u001b[0mvector\u001b[0m\u001b[0;34m[\u001b[0m\u001b[0;36m3\u001b[0m\u001b[0;34m]\u001b[0m\u001b[0;34m\u001b[0m\u001b[0m\n\u001b[0m",
      "\u001b[0;32m<ipython-input-28-cc85d11efb1c>\u001b[0m in \u001b[0;36m__getitem__\u001b[0;34m(self, position)\u001b[0m\n\u001b[1;32m      1\u001b[0m \u001b[0;32mclass\u001b[0m \u001b[0mVectorIterable\u001b[0m\u001b[0;34m(\u001b[0m\u001b[0mVectorWithTypes\u001b[0m\u001b[0;34m)\u001b[0m\u001b[0;34m:\u001b[0m\u001b[0;34m\u001b[0m\u001b[0m\n\u001b[1;32m      2\u001b[0m     \u001b[0;32mdef\u001b[0m \u001b[0m__getitem__\u001b[0m\u001b[0;34m(\u001b[0m\u001b[0mself\u001b[0m\u001b[0;34m,\u001b[0m \u001b[0mposition\u001b[0m\u001b[0;34m)\u001b[0m\u001b[0;34m:\u001b[0m\u001b[0;34m\u001b[0m\u001b[0m\n\u001b[0;32m----> 3\u001b[0;31m         \u001b[0;32mreturn\u001b[0m \u001b[0;34m(\u001b[0m\u001b[0mself\u001b[0m\u001b[0;34m.\u001b[0m\u001b[0m_x\u001b[0m\u001b[0;34m,\u001b[0m \u001b[0mself\u001b[0m\u001b[0;34m.\u001b[0m\u001b[0m_y\u001b[0m\u001b[0;34m)\u001b[0m\u001b[0;34m[\u001b[0m\u001b[0mposition\u001b[0m\u001b[0;34m]\u001b[0m\u001b[0;34m\u001b[0m\u001b[0m\n\u001b[0m\u001b[1;32m      4\u001b[0m \u001b[0;34m\u001b[0m\u001b[0m\n\u001b[1;32m      5\u001b[0m     \u001b[0;32mdef\u001b[0m \u001b[0m__len__\u001b[0m\u001b[0;34m(\u001b[0m\u001b[0mself\u001b[0m\u001b[0;34m)\u001b[0m\u001b[0;34m:\u001b[0m\u001b[0;34m\u001b[0m\u001b[0m\n",
      "\u001b[0;31mIndexError\u001b[0m: tuple index out of range"
     ]
    }
   ],
   "source": [
    "vector = VectorIterable(100, 500)\n",
    "vector[0]\n",
    "vector[3]"
   ]
  },
  {
   "cell_type": "code",
   "execution_count": 30,
   "metadata": {
    "collapsed": false,
    "deletable": true,
    "editable": true
   },
   "outputs": [
    {
     "name": "stdout",
     "output_type": "stream",
     "text": [
      "100\n",
      "500\n"
     ]
    }
   ],
   "source": [
    "for coordinate in vector:\n",
    "    print(coordinate)"
   ]
  },
  {
   "cell_type": "code",
   "execution_count": 31,
   "metadata": {
    "collapsed": false,
    "deletable": true,
    "editable": true
   },
   "outputs": [
    {
     "name": "stdout",
     "output_type": "stream",
     "text": [
      "500\n",
      "100\n"
     ]
    }
   ],
   "source": [
    "for coordinate in reversed(vector):\n",
    "    print(coordinate)"
   ]
  },
  {
   "cell_type": "markdown",
   "metadata": {
    "deletable": true,
    "editable": true
   },
   "source": [
    "## Динамическая работа с атрибутами"
   ]
  },
  {
   "cell_type": "markdown",
   "metadata": {
    "collapsed": true,
    "deletable": true,
    "editable": true
   },
   "source": [
    "Казалось бы, в питоне нет никакой защиты от \"взлома\". Но нельзя ли сделать её самостоятельно?"
   ]
  },
  {
   "cell_type": "code",
   "execution_count": 32,
   "metadata": {
    "collapsed": false,
    "deletable": true,
    "editable": true
   },
   "outputs": [],
   "source": [
    "class VectorWithAllAttributes(VectorIterable):\n",
    "    def __getattr__(self, attr_name):\n",
    "        print(attr_name)\n",
    "        return \"value of {}\".format(attr_name)\n",
    "    \n",
    "    def __setattr__(self, attr_name, attr_value):\n",
    "        if attr_name not in ('_x', '_y', '_color'):\n",
    "            raise Exception('you shall not add new attributes here, young padawan!')\n",
    "        else:\n",
    "            super().__setattr__(attr_name, attr_value)\n",
    "            \n",
    "    def __delattr__(self, attr_name):\n",
    "        print('Heh, you can delete nothing')"
   ]
  },
  {
   "cell_type": "code",
   "execution_count": 33,
   "metadata": {
    "collapsed": false,
    "deletable": true,
    "editable": true
   },
   "outputs": [
    {
     "name": "stdout",
     "output_type": "stream",
     "text": [
      "initializing a vector\n",
      "['__abs__', '__add__', '__bool__', '__class__', '__delattr__', '__dict__', '__dir__', '__doc__', '__eq__', '__float__', '__format__', '__ge__', '__getattr__', '__getattribute__', '__getitem__', '__gt__', '__hash__', '__init__', '__init_subclass__', '__int__', '__le__', '__len__', '__lt__', '__module__', '__ne__', '__new__', '__reduce__', '__reduce_ex__', '__repr__', '__reversed__', '__setattr__', '__sizeof__', '__str__', '__sub__', '__subclasshook__', '__weakref__', '_color', '_x', '_y', 'get_x', 'get_y']\n"
     ]
    }
   ],
   "source": [
    "vector = VectorWithAllAttributes(1, 2, 'violet')\n",
    "print(dir(vector))"
   ]
  },
  {
   "cell_type": "code",
   "execution_count": 34,
   "metadata": {
    "collapsed": false,
    "deletable": true,
    "editable": true
   },
   "outputs": [
    {
     "name": "stdout",
     "output_type": "stream",
     "text": [
      "some_attribute\n",
      "value of some_attribute\n",
      "violet\n",
      "1\n"
     ]
    }
   ],
   "source": [
    "print(vector.some_attribute)\n",
    "print(vector._color)\n",
    "print(vector.get_x())"
   ]
  },
  {
   "cell_type": "code",
   "execution_count": 35,
   "metadata": {
    "collapsed": false,
    "deletable": true,
    "editable": true
   },
   "outputs": [
    {
     "ename": "Exception",
     "evalue": "you shall not add new attributes here, young padawan!",
     "output_type": "error",
     "traceback": [
      "\u001b[0;31m---------------------------------------------------------------------------\u001b[0m",
      "\u001b[0;31mException\u001b[0m                                 Traceback (most recent call last)",
      "\u001b[0;32m<ipython-input-35-a8bc51e74a96>\u001b[0m in \u001b[0;36m<module>\u001b[0;34m()\u001b[0m\n\u001b[0;32m----> 1\u001b[0;31m \u001b[0mvector\u001b[0m\u001b[0;34m.\u001b[0m\u001b[0mnew_attribute\u001b[0m \u001b[0;34m=\u001b[0m \u001b[0;34m\"value\"\u001b[0m\u001b[0;34m\u001b[0m\u001b[0m\n\u001b[0m",
      "\u001b[0;32m<ipython-input-32-cf67e38f6a04>\u001b[0m in \u001b[0;36m__setattr__\u001b[0;34m(self, attr_name, attr_value)\u001b[0m\n\u001b[1;32m      6\u001b[0m     \u001b[0;32mdef\u001b[0m \u001b[0m__setattr__\u001b[0m\u001b[0;34m(\u001b[0m\u001b[0mself\u001b[0m\u001b[0;34m,\u001b[0m \u001b[0mattr_name\u001b[0m\u001b[0;34m,\u001b[0m \u001b[0mattr_value\u001b[0m\u001b[0;34m)\u001b[0m\u001b[0;34m:\u001b[0m\u001b[0;34m\u001b[0m\u001b[0m\n\u001b[1;32m      7\u001b[0m         \u001b[0;32mif\u001b[0m \u001b[0mattr_name\u001b[0m \u001b[0;32mnot\u001b[0m \u001b[0;32min\u001b[0m \u001b[0;34m(\u001b[0m\u001b[0;34m'_x'\u001b[0m\u001b[0;34m,\u001b[0m \u001b[0;34m'_y'\u001b[0m\u001b[0;34m,\u001b[0m \u001b[0;34m'_color'\u001b[0m\u001b[0;34m)\u001b[0m\u001b[0;34m:\u001b[0m\u001b[0;34m\u001b[0m\u001b[0m\n\u001b[0;32m----> 8\u001b[0;31m             \u001b[0;32mraise\u001b[0m \u001b[0mException\u001b[0m\u001b[0;34m(\u001b[0m\u001b[0;34m'you shall not add new attributes here, young padawan!'\u001b[0m\u001b[0;34m)\u001b[0m\u001b[0;34m\u001b[0m\u001b[0m\n\u001b[0m\u001b[1;32m      9\u001b[0m         \u001b[0;32melse\u001b[0m\u001b[0;34m:\u001b[0m\u001b[0;34m\u001b[0m\u001b[0m\n\u001b[1;32m     10\u001b[0m             \u001b[0msuper\u001b[0m\u001b[0;34m(\u001b[0m\u001b[0;34m)\u001b[0m\u001b[0;34m.\u001b[0m\u001b[0m__setattr__\u001b[0m\u001b[0;34m(\u001b[0m\u001b[0mattr_name\u001b[0m\u001b[0;34m,\u001b[0m \u001b[0mattr_value\u001b[0m\u001b[0;34m)\u001b[0m\u001b[0;34m\u001b[0m\u001b[0m\n",
      "\u001b[0;31mException\u001b[0m: you shall not add new attributes here, young padawan!"
     ]
    }
   ],
   "source": [
    "vector.new_attribute = \"value\""
   ]
  },
  {
   "cell_type": "code",
   "execution_count": 36,
   "metadata": {
    "collapsed": false,
    "deletable": true,
    "editable": true
   },
   "outputs": [
    {
     "name": "stdout",
     "output_type": "stream",
     "text": [
      "Heh, you can delete nothing\n",
      "violet\n"
     ]
    }
   ],
   "source": [
    "delattr(vector, '_color')\n",
    "print(vector._color)"
   ]
  },
  {
   "cell_type": "markdown",
   "metadata": {
    "deletable": true,
    "editable": true
   },
   "source": [
    "## Контексты"
   ]
  },
  {
   "cell_type": "code",
   "execution_count": 37,
   "metadata": {
    "collapsed": true,
    "deletable": true,
    "editable": true
   },
   "outputs": [],
   "source": [
    "class VectorWithContextManager(VectorWithAllAttributes):\n",
    "    def __enter__(self):\n",
    "        print('entering context')\n",
    "    def __exit__(self, *args):\n",
    "        print(args)\n",
    "        print('leaving context')"
   ]
  },
  {
   "cell_type": "code",
   "execution_count": 38,
   "metadata": {
    "collapsed": false,
    "deletable": true,
    "editable": true
   },
   "outputs": [
    {
     "name": "stdout",
     "output_type": "stream",
     "text": [
      "initializing a vector\n",
      "entering context\n",
      "0\n",
      "1\n",
      "2\n",
      "(<class 'Exception'>, Exception('something happened inside!',), <traceback object at 0x108b77c48>)\n",
      "leaving context\n",
      "an exception was raised...\n",
      "we are out if the context\n"
     ]
    }
   ],
   "source": [
    "try:\n",
    "    with VectorWithContextManager() as vec:\n",
    "        for i in range(3):\n",
    "            print(i)\n",
    "        raise Exception('something happened inside!')\n",
    "except Exception:\n",
    "    print('an exception was raised...')\n",
    "    pass\n",
    "print('we are out if the context')"
   ]
  },
  {
   "cell_type": "markdown",
   "metadata": {
    "deletable": true,
    "editable": true
   },
   "source": [
    "Но можно и проще!"
   ]
  },
  {
   "cell_type": "code",
   "execution_count": 39,
   "metadata": {
    "collapsed": false,
    "deletable": true,
    "editable": true
   },
   "outputs": [
    {
     "name": "stdout",
     "output_type": "stream",
     "text": [
      "statement before context\n",
      "handling entering the context\n",
      "initializing a vector\n",
      "<__main__.Vector object at 0x108b7ae48>\n",
      "handling leaving the context\n",
      "statement after context\n"
     ]
    }
   ],
   "source": [
    "from contextlib import contextmanager\n",
    "\n",
    "@contextmanager\n",
    "def vector_mgr():\n",
    "    print('handling entering the context')\n",
    "    yield Vector()\n",
    "    print('handling leaving the context')\n",
    "          \n",
    "print('statement before context')\n",
    "with vector_mgr() as vector:\n",
    "    print(vector)\n",
    "print('statement after context')"
   ]
  },
  {
   "cell_type": "markdown",
   "metadata": {
    "deletable": true,
    "editable": true
   },
   "source": [
    "## Создание и удаление объектов"
   ]
  },
  {
   "cell_type": "code",
   "execution_count": 40,
   "metadata": {
    "collapsed": true,
    "deletable": true,
    "editable": true
   },
   "outputs": [],
   "source": [
    "class VectorInitialized(VectorWithContextManager):\n",
    "    def __new__(cls, *args, **kwargs):\n",
    "        print('invoking __new__ method')\n",
    "        print(cls, args, kwargs)\n",
    "        return object.__new__(cls)\n",
    "    \n",
    "    def __del__(self):\n",
    "        print('deleting an object')\n",
    "        raise Exception(\"exception while destructing\")"
   ]
  },
  {
   "cell_type": "code",
   "execution_count": 41,
   "metadata": {
    "collapsed": false,
    "deletable": true,
    "editable": true
   },
   "outputs": [
    {
     "name": "stdout",
     "output_type": "stream",
     "text": [
      "invoking __new__ method\n",
      "<class '__main__.VectorInitialized'> (1, 2) {'color': 'navy blue'}\n",
      "initializing a vector\n"
     ]
    }
   ],
   "source": [
    "vector = VectorInitialized(1, 2, color='navy blue')"
   ]
  },
  {
   "cell_type": "code",
   "execution_count": 42,
   "metadata": {
    "collapsed": false,
    "deletable": true,
    "editable": true
   },
   "outputs": [
    {
     "name": "stdout",
     "output_type": "stream",
     "text": [
      "deleting an object\n"
     ]
    },
    {
     "name": "stderr",
     "output_type": "stream",
     "text": [
      "Exception ignored in: <bound method VectorInitialized.__del__ of vector representation (x: 1, y: 2, color: navy blue)>\n",
      "Traceback (most recent call last):\n",
      "  File \"<ipython-input-40-b22a11d4ad3e>\", line 9, in __del__\n",
      "Exception: exception while destructing\n"
     ]
    }
   ],
   "source": [
    "del vector"
   ]
  },
  {
   "cell_type": "markdown",
   "metadata": {
    "deletable": true,
    "editable": true
   },
   "source": [
    "### Упражнение! \n",
    "\n",
    "Как с помощью метода `__new__` сделать класс \"синглтоном\" -- объектом, который создается один раз, а при попытке повторного создания возвращается уже готовый объект?"
   ]
  },
  {
   "cell_type": "code",
   "execution_count": 43,
   "metadata": {
    "collapsed": false,
    "deletable": true,
    "editable": true
   },
   "outputs": [],
   "source": [
    "class SingletonClass:\n",
    "    obj = None\n",
    "    def __new__(cls, *args, **kwargs):\n",
    "        if cls.obj is None:\n",
    "            cls.obj = object.__new__(cls)\n",
    "        return cls.obj\n",
    "\n",
    "obj1 = SingletonClass()\n",
    "obj2 = SingletonClass()\n",
    "assert id(obj1) == id(obj2)"
   ]
  },
  {
   "cell_type": "code",
   "execution_count": null,
   "metadata": {
    "collapsed": true,
    "deletable": true,
    "editable": true
   },
   "outputs": [],
   "source": []
  }
 ],
 "metadata": {
  "kernelspec": {
   "display_name": "Python 3",
   "language": "python",
   "name": "python3"
  },
  "language_info": {
   "codemirror_mode": {
    "name": "ipython",
    "version": 3
   },
   "file_extension": ".py",
   "mimetype": "text/x-python",
   "name": "python",
   "nbconvert_exporter": "python",
   "pygments_lexer": "ipython3",
   "version": "3.6.5"
  }
 },
 "nbformat": 4,
 "nbformat_minor": 1
}
