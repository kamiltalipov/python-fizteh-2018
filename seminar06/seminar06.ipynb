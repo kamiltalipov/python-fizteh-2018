{
 "cells": [
  {
   "cell_type": "markdown",
   "metadata": {
    "deletable": true,
    "editable": true
   },
   "source": [
    "# Аналитика: работа с данными\n",
    "\n",
    "## Форматы данных\n",
    "### Формат csv \n",
    "[Comma-Separated Values](https://ru.wikipedia.org/wiki/CSV). Чаще на практике работают с более общим форматом -- DSV (Delimeter). [Библиотека csv](https://docs.python.org/3/library/csv.html) позволяет работать данными разделенными любым символом. Она представляет содержимое DSV в виде списка.\n",
    "\n",
    "Для чтения файла в формате csv используются объект reader, для записи -- writer."
   ]
  },
  {
   "cell_type": "code",
   "execution_count": 1,
   "metadata": {
    "collapsed": true,
    "deletable": true,
    "editable": true
   },
   "outputs": [],
   "source": [
    "import csv"
   ]
  },
  {
   "cell_type": "code",
   "execution_count": 2,
   "metadata": {
    "collapsed": true,
    "deletable": true,
    "editable": true
   },
   "outputs": [],
   "source": [
    "def read(file):\n",
    "    with open(file) as fin:\n",
    "        string = fin.read()\n",
    "        print(string)\n",
    "        return string"
   ]
  },
  {
   "cell_type": "code",
   "execution_count": 3,
   "metadata": {
    "collapsed": false,
    "deletable": true,
    "editable": true
   },
   "outputs": [
    {
     "name": "stdout",
     "output_type": "stream",
     "text": [
      "1997,Ford,E350,\"ac, abs, moon\",3000.00\n",
      "1999,Chevy,\"Venture «Extended Edition»\",\"\",4900.00\n",
      "1996,Jeep,Grand Cherokee,\"MUST SELL! air, moon roof, loaded\",4799.00\n"
     ]
    }
   ],
   "source": [
    "csv_file = \"doc/sample.csv\"\n",
    "csv_str = read(csv_file)"
   ]
  },
  {
   "cell_type": "code",
   "execution_count": 4,
   "metadata": {
    "collapsed": false,
    "deletable": true,
    "editable": true
   },
   "outputs": [],
   "source": [
    "def read_csv(file, **parameters):\n",
    "    content = []\n",
    "    \n",
    "    with open(file) as fin:\n",
    "        reader = csv.reader(fin, **parameters)  # чтение csv-файла\n",
    "        print(reader)\n",
    "        \n",
    "        for row in reader:\n",
    "            content.append(row)\n",
    "            print(row)\n",
    "            \n",
    "    return content"
   ]
  },
  {
   "cell_type": "code",
   "execution_count": 5,
   "metadata": {
    "collapsed": false,
    "deletable": true,
    "editable": true
   },
   "outputs": [
    {
     "name": "stdout",
     "output_type": "stream",
     "text": [
      "<_csv.reader object at 0x10c261208>\n",
      "['1997', 'Ford', 'E350', 'ac, abs, moon', '3000.00']\n",
      "['1999', 'Chevy', 'Venture «Extended Edition»', '', '4900.00']\n",
      "['1996', 'Jeep', 'Grand Cherokee', 'MUST SELL! air, moon roof, loaded', '4799.00']\n"
     ]
    }
   ],
   "source": [
    "content = read_csv(csv_file)"
   ]
  },
  {
   "cell_type": "markdown",
   "metadata": {
    "deletable": true,
    "editable": true
   },
   "source": [
    "При создании, в reader можно передать дополнительные параметры:\n",
    "    - delimiter - разделитель;\n",
    "    - quotechar - символ, который будет использован для экранирования строк, содержащих разделитель\n",
    "    - quoting - выбор стратегии экранирования\n",
    "\n",
    "Аналогично можно записывать данные в csv-файл."
   ]
  },
  {
   "cell_type": "code",
   "execution_count": null,
   "metadata": {
    "collapsed": false,
    "deletable": true,
    "editable": true
   },
   "outputs": [],
   "source": [
    "mfile = \"doc/mod_sample.csv\"\n",
    "parameters = dict(\n",
    "    delimiter=' ',\n",
    "    quotechar='|',\n",
    "    quoting=csv.QUOTE_ALL\n",
    ")\n",
    "\n",
    "with open(mfile, 'w') as fout:\n",
    "    writer = csv.writer(fout, **parameters)  # запись в файл\n",
    "    for row in content:\n",
    "        writer.writerow(row)\n",
    "        writer.writerow(row)  # запишем каждую строку дважды\n",
    "\n",
    "print(\"Новый файл:\")\n",
    "read(mfile)\n",
    "        \n",
    "read_csv(mfile, **parameters)"
   ]
  },
  {
   "cell_type": "markdown",
   "metadata": {
    "deletable": true,
    "editable": true
   },
   "source": [
    "### Формат json\n",
    "[JavaScript Object Notation](https://ru.wikipedia.org/wiki/JSON) -- представляет собой аналог словаря в python. Для работы с данными этого формата используется [библиотека json](https://docs.python.org/3/library/json.html). Также она может использоваться для работы с обобщенным JSON-форматом, использующим произвольные разделители.\n",
    "\n",
    "Для преобразования json в словарь используются методы load/loads, для обратного преобразования - dump/dumps."
   ]
  },
  {
   "cell_type": "code",
   "execution_count": null,
   "metadata": {
    "collapsed": true,
    "deletable": true,
    "editable": true
   },
   "outputs": [],
   "source": [
    "import json"
   ]
  },
  {
   "cell_type": "code",
   "execution_count": null,
   "metadata": {
    "collapsed": false,
    "deletable": true,
    "editable": true
   },
   "outputs": [],
   "source": [
    "json_file = \"doc/sample.json\"\n",
    "json_str = read(json_file)"
   ]
  },
  {
   "cell_type": "code",
   "execution_count": null,
   "metadata": {
    "collapsed": false,
    "deletable": true,
    "editable": true
   },
   "outputs": [],
   "source": [
    "with open(json_file) as fin:\n",
    "    json_dict = json.load(fin)  # чтение из файла\n",
    "    print(json_dict)\n",
    "    \n",
    "    print(\"\\nПри попытке чтения fin получаем строку длины {0}.\".format(len(fin.read())))"
   ]
  },
  {
   "cell_type": "code",
   "execution_count": null,
   "metadata": {
    "collapsed": false,
    "deletable": true,
    "editable": true
   },
   "outputs": [],
   "source": [
    "# преобразование из строки\n",
    "with open(json_file) as fin:\n",
    "    json_dict = json.loads(fin.read())  # преобразование строки\n",
    "    print(json_dict)"
   ]
  },
  {
   "cell_type": "markdown",
   "metadata": {
    "deletable": true,
    "editable": true
   },
   "source": [
    "При преобразовании словаря в json можно указывать дополнительные параметры:\n",
    "    - separators - пара используемых разделителей (может использоваться и для обратного преобразования)\n",
    "    - indent - отступ\n",
    "    - sort_keys - флаг, указывающий на необходимость сортировки ключей в json-строке"
   ]
  },
  {
   "cell_type": "code",
   "execution_count": null,
   "metadata": {
    "collapsed": false,
    "deletable": true,
    "editable": true
   },
   "outputs": [],
   "source": [
    "json_dict['email'] = \"ivanov_ivan@yandex.ru\"\n",
    "json_str = json.dumps(json_dict, separators=(';', '='), indent=4, sort_keys=True)\n",
    "print(json_str)"
   ]
  },
  {
   "cell_type": "code",
   "execution_count": null,
   "metadata": {
    "collapsed": false,
    "deletable": true,
    "editable": true
   },
   "outputs": [],
   "source": [
    "mfile = \"doc/mod_sample.json\"\n",
    "with open(mfile, 'w') as fout:\n",
    "    json.dump(json_dict, fout)\n",
    "\n",
    "with open(mfile) as fin:\n",
    "    print(fin.read())"
   ]
  },
  {
   "cell_type": "markdown",
   "metadata": {
    "deletable": true,
    "editable": true
   },
   "source": [
    "### Формат xml\n",
    "[eXtensible Markup Language](https://ru.wikipedia.org/wiki/XML) -- язык разметки текстов (если упрощенно, то похож на HTML). Для работы с данными в формате xml используется [библиотека xml](https://docs.python.org/3/library/xml.html).\n",
    "\n",
    "С помощью методов класса ElementTree можно преобразовать входной xml-файл или строку в дерево (read/parse) и обратно (write/tostring)."
   ]
  },
  {
   "cell_type": "code",
   "execution_count": 1,
   "metadata": {
    "collapsed": false,
    "deletable": true,
    "editable": true
   },
   "outputs": [],
   "source": [
    "import xml.etree.ElementTree as ET"
   ]
  },
  {
   "cell_type": "code",
   "execution_count": 4,
   "metadata": {
    "collapsed": false,
    "deletable": true,
    "editable": true
   },
   "outputs": [
    {
     "name": "stdout",
     "output_type": "stream",
     "text": [
      "<?xml version=\"1.0\"?>\n",
      "<data>\n",
      "    <country name=\"Liechtenstein\">\n",
      "        <rank>1</rank>\n",
      "        <year>2008</year>\n",
      "        <gdppc>141100</gdppc>\n",
      "        <neighbor name=\"Austria\" direction=\"E\"/>\n",
      "        <neighbor name=\"Switzerland\" direction=\"W\"/>\n",
      "    </country>\n",
      "    <country name=\"Singapore\">\n",
      "        <rank>4</rank>\n",
      "        <year>2011</year>\n",
      "        <gdppc>59900</gdppc>\n",
      "        <neighbor name=\"Malaysia\" direction=\"N\"/>\n",
      "    </country>\n",
      "    <country name=\"Panama\">\n",
      "        <rank>68</rank>\n",
      "        <year>2011</year>\n",
      "        <gdppc>13600</gdppc>\n",
      "        <neighbor name=\"Costa Rica\" direction=\"W\"/>\n",
      "        <neighbor name=\"Colombia\" direction=\"E\"/>\n",
      "    </country>\n",
      "</data>\n",
      "\n"
     ]
    }
   ],
   "source": [
    "xml_file = \"doc/sample.xml\"\n",
    "xml_str = read(xml_file)"
   ]
  },
  {
   "cell_type": "code",
   "execution_count": 5,
   "metadata": {
    "collapsed": false,
    "deletable": true,
    "editable": true
   },
   "outputs": [
    {
     "name": "stdout",
     "output_type": "stream",
     "text": [
      "<Element 'data' at 0x102ac91d8>\n"
     ]
    }
   ],
   "source": [
    "# Преобразование строки\n",
    "with open(xml_file) as fin:\n",
    "    xml_str = fin.read()\n",
    "    root = ET.fromstring(xml_str)\n",
    "    print(root)"
   ]
  },
  {
   "cell_type": "code",
   "execution_count": 6,
   "metadata": {
    "collapsed": false,
    "deletable": true,
    "editable": true
   },
   "outputs": [
    {
     "name": "stdout",
     "output_type": "stream",
     "text": [
      "<xml.etree.ElementTree.ElementTree object at 0x102b4bba8>\n"
     ]
    }
   ],
   "source": [
    "# Чтение из файла\n",
    "tree = ET.parse(xml_file)\n",
    "print(tree)"
   ]
  },
  {
   "cell_type": "markdown",
   "metadata": {
    "deletable": true,
    "editable": true
   },
   "source": [
    "Для работы с объектом ElementTree понадобятся следующие методы:\n",
    "    - find/findall(match) - поиск элемента (-ов) по тэгу\n",
    "    - set(key, value) - установка значения аттрибута элемента\n",
    "    - append(subelement)/extend(subelements) - добавление элемента (-ов) в конец\n",
    "    - insert(index, subelement) - вставка элемента, на указанную позицию\n",
    "    - remove(subelement) - удаление элемента"
   ]
  },
  {
   "cell_type": "code",
   "execution_count": null,
   "metadata": {
    "collapsed": false,
    "deletable": true,
    "editable": true
   },
   "outputs": [],
   "source": [
    "root = tree.getroot()  # получение корневого элемента\n",
    "for child in root:\n",
    "    print(\"tag:\", child.tag)  # тэг текущего элемента\n",
    "    print(\"attribute:\", child.attrib)  # все аттрибуты текущего элемента\n",
    "    if child.attrib['name'] == 'Panama':\n",
    "        print(\"\\nLeaf\")\n",
    "        for leaf in child:  # обход вложенных элементов\n",
    "            print(leaf.tag, leaf.attrib)\n",
    "            print(\"text:\", leaf.text)  # содержимое элемента"
   ]
  },
  {
   "cell_type": "code",
   "execution_count": null,
   "metadata": {
    "collapsed": false,
    "deletable": true,
    "editable": true
   },
   "outputs": [],
   "source": [
    "# Пример модификации дерева\n",
    "def add_element(parent, name, value):\n",
    "    element = ET.SubElement(parent, name)\n",
    "    element.text = str(value)\n",
    "    \n",
    "\n",
    "for country in root.findall(\"country\"):\n",
    "    if country.attrib.get(\"name\") == \"Panama\":  # удаляем Панаму\n",
    "        root.remove(country)\n",
    "\n",
    "new_element = ET.SubElement(root, \"country\")\n",
    "new_element.set(\"name\", \"Russia\")  # добавляем Россию\n",
    "print(new_element.attrib)\n",
    "\n",
    "subelements = dict(\n",
    "    rank=67,\n",
    "    year=2016,\n",
    "    gdppc=8928,\n",
    "    neighbor=\"\"\n",
    ")\n",
    "names = list(subelements.keys()) + [\"neighbor\"]\n",
    "for name in names:\n",
    "    add_element(new_element, name, subelements[name])  # добавляем информацию о России\n",
    "\n",
    "tags = [\n",
    "    {\"name\": \"Venezuela\", \"direction\": \"W\"},\n",
    "    {\"name\": \"Brasil\", \"direction\": \"E\"}\n",
    "]\n",
    "for i, neighbor in enumerate(new_element.findall(\"neighbor\")):\n",
    "    for name, value in tags[i].items():\n",
    "        neighbor.set(name, value)  # добавляем информацию о соседях\n",
    "\n",
    "# Запись результата в файл\n",
    "tree.write(\"doc/mod_sample.xml\")\n",
    "\n",
    "print(\"\\nНовый файл:\")\n",
    "content = read(\"doc/mod_sample.xml\")"
   ]
  },
  {
   "cell_type": "markdown",
   "metadata": {
    "deletable": true,
    "editable": true
   },
   "source": [
    "## Работа со временем\n",
    "Для работы со временем в python есть две основные библиотеки - [time](https://docs.python.org/3/library/time.html) и [datetime](https://docs.python.org/3/library/datetime.html).\n",
    "\n",
    "### Time\n",
    "Все время отсчитывается от нулевой эпохи, обычно это 1 января 1970 года, но на некоторых платформах может быть другим. Все остальные даты могут быть представлены в виде числа микросекунд, прошедших с нулевой эпохи.\n",
    "#### Класс struct_time\n",
    "Для работы со временем в библиотеке time используется класс struct_time, который содержит информацию всю информацию о дате, включая день недели и учитывается ли в ней летнее/зимнее время.<br/>\n",
    "  - **time.gmtime([sec])** - из времени в секундах получить дату (struct_time) в UTC. Дата считается с начала эпохи. При вызове без аргументов, можно получить текущую дату.<br/>\n",
    "  - **time.localtime([sec])** - аналогичен gmtime, но полученное время - локальное."
   ]
  },
  {
   "cell_type": "code",
   "execution_count": null,
   "metadata": {
    "collapsed": true,
    "deletable": true,
    "editable": true
   },
   "outputs": [],
   "source": [
    "import datetime\n",
    "import time"
   ]
  },
  {
   "cell_type": "code",
   "execution_count": null,
   "metadata": {
    "collapsed": false,
    "deletable": true,
    "editable": true
   },
   "outputs": [],
   "source": [
    "# Время начала отсчета времени в UTC (зависит от платформы)\n",
    "print(\"UTC:\")\n",
    "utc_start = time.gmtime(0)\n",
    "print(\"Начало отсчета:\", utc_start)\n",
    "\n",
    "# Текущая дата и время (UTC)\n",
    "utc_time = time.gmtime()\n",
    "print(\"Текущее время:\", utc_time)\n",
    "\n",
    "print(\"День недели (0 - понедельник): tm_wday =\", utc_time.tm_wday)\n",
    "print(\"Используется ли летнее время (-1 - неизвестно): tm_isdst =\", utc_time.tm_isdst)\n",
    "\n",
    "print(\"\\nLocal:\")\n",
    "loc_start = time.localtime(0)\n",
    "print(\"Начало отсчета:\", loc_start)\n",
    "\n",
    "# Текущая дата и время (локальная)\n",
    "loc_time = time.localtime()\n",
    "print(\"Текущее время:\", loc_time)"
   ]
  },
  {
   "cell_type": "markdown",
   "metadata": {
    "deletable": true,
    "editable": true
   },
   "source": [
    "Обратную операцию к localtime можно сделать с помощью **time.mktime(struct_time)**."
   ]
  },
  {
   "cell_type": "code",
   "execution_count": null,
   "metadata": {
    "collapsed": false,
    "deletable": true,
    "editable": true
   },
   "outputs": [],
   "source": [
    "timestamp = time.mktime(loc_time)\n",
    "print(time.mktime(loc_start), timestamp)\n",
    "\n",
    "# Не путать с UTC временем!\n",
    "print(time.mktime(utc_start))"
   ]
  },
  {
   "cell_type": "markdown",
   "metadata": {
    "deletable": true,
    "editable": true
   },
   "source": [
    "Но часто приходится работать с читабельным строковым форматом, а не временем в секундах. Для этих целей в библиотеке time есть отдельные функции:\n",
    "  - **time.strftime(format, [struct_time])** - преобразование struct_time в строку по заданному формату.<br/>\n",
    "  - **time.strptime(string, [format])** - обратное преобразование."
   ]
  },
  {
   "cell_type": "code",
   "execution_count": null,
   "metadata": {
    "collapsed": false,
    "deletable": true,
    "editable": true
   },
   "outputs": [],
   "source": [
    "time_format = \"%Y-%m-%d %H:%M:%S %z\"\n",
    "str_time = time.strftime(time_format, loc_time)\n",
    "print(str_time)\n",
    "\n",
    "# Без аргументов получим текущее время\n",
    "print(time.strftime(time_format))\n",
    "\n",
    "print(time.strptime(str_time, time_format))"
   ]
  },
  {
   "cell_type": "markdown",
   "metadata": {
    "deletable": true,
    "editable": true
   },
   "source": [
    "Время представленное как struct_time можно сравнивать, но нельзя выполнять с ним арифметические операции."
   ]
  },
  {
   "cell_type": "code",
   "execution_count": null,
   "metadata": {
    "collapsed": false,
    "deletable": true,
    "editable": true
   },
   "outputs": [],
   "source": [
    "print(utc_start < utc_time)\n",
    "utc_time - utc_start"
   ]
  },
  {
   "cell_type": "markdown",
   "metadata": {
    "deletable": true,
    "editable": true
   },
   "source": [
    "### Datetime\n",
    "Datetime -- предоставляет все те же возможности, что и time, но, кроме того, позволяет выполнять арифметические операции над временем и поддерживает много других полезных функций. Основным классом у библиотеки является -- **datetime.datetime**.\n",
    "#### Класс datetime"
   ]
  },
  {
   "cell_type": "code",
   "execution_count": null,
   "metadata": {
    "collapsed": false,
    "deletable": true,
    "editable": true
   },
   "outputs": [],
   "source": [
    "dttm = datetime.datetime.today()\n",
    "print(dttm.year, dttm.month, dttm.day, dttm.hour, dttm.minute, dttm.second)\n",
    "dttm"
   ]
  },
  {
   "cell_type": "code",
   "execution_count": null,
   "metadata": {
    "collapsed": false,
    "deletable": true,
    "editable": true
   },
   "outputs": [],
   "source": [
    "print(dttm.year, dttm.hour, dttm.microsecond)\n",
    "print(dttm.weekday())\n",
    "print(dttm.isoweekday())  # weekday() + 1\n",
    "print(dttm.timestamp())\n",
    "dt = dttm.date()\n",
    "tm = dttm.time()\n",
    "dt, tm"
   ]
  },
  {
   "cell_type": "code",
   "execution_count": null,
   "metadata": {
    "collapsed": false,
    "deletable": true,
    "editable": true
   },
   "outputs": [],
   "source": [
    "# Объединение времени и даты\n",
    "datetime.datetime.combine(dt, tm)"
   ]
  },
  {
   "cell_type": "code",
   "execution_count": null,
   "metadata": {
    "collapsed": false,
    "deletable": true,
    "editable": true
   },
   "outputs": [],
   "source": [
    "print(dttm)  # неявное преобразование объекта datetime в строку\n",
    "\n",
    "# Преобразование локального времени\n",
    "dttm = datetime.datetime.fromtimestamp(timestamp)\n",
    "print(dttm)\n",
    "\n",
    "# Получение времени в UTC\n",
    "utc_dttm = datetime.datetime.utcfromtimestamp(timestamp)\n",
    "print(utc_dttm)\n",
    "\n",
    "# Получение текущей даты\n",
    "print(datetime.datetime.fromtimestamp(time.time()))\n",
    "print(datetime.datetime.now())\n",
    "print(datetime.datetime.today())\n",
    "\n",
    "timestamp == dttm.timestamp()\n",
    "print(timestamp)\n",
    "\n",
    "# Сравнения тоже работают\n",
    "print(dttm > utc_dttm)\n",
    "\n",
    "# Явное преобразвание в строку и обратно\n",
    "time_format = \"%Y-%m-%d %H:%M:%S\"\n",
    "\n",
    "print(dttm.strftime(time_format))\n",
    "str_dttm = str(dttm)\n",
    "print(str_dttm)\n",
    "\n",
    "datetime.datetime.strptime(str_dttm, time_format)"
   ]
  },
  {
   "cell_type": "markdown",
   "metadata": {
    "deletable": true,
    "editable": true
   },
   "source": [
    "#### Операции с временем (класс timedelta)\n",
    "Для преобразований времени существует отдельный класс -- **daetime.timedelta**. В нем поддерживаются все основные арифметические операции, которые корректно отрабатывают при переходе на новый день, смене месяца или года, так что не нужно изобретать велосипеды."
   ]
  },
  {
   "cell_type": "code",
   "execution_count": null,
   "metadata": {
    "collapsed": true,
    "deletable": true,
    "editable": true
   },
   "outputs": [],
   "source": [
    "from datetime import timedelta"
   ]
  },
  {
   "cell_type": "code",
   "execution_count": null,
   "metadata": {
    "collapsed": false,
    "deletable": true,
    "editable": true
   },
   "outputs": [],
   "source": [
    "td_secs = timedelta(seconds=10)\n",
    "td_days = timedelta(days=3)\n",
    "print(td_days)  # неявное преобразование в строку\n",
    "td_secs, td_days"
   ]
  },
  {
   "cell_type": "code",
   "execution_count": null,
   "metadata": {
    "collapsed": false,
    "deletable": true,
    "editable": true
   },
   "outputs": [],
   "source": [
    "print(td_days + td_secs)\n",
    "print(td_days - td_secs)\n",
    "print(td_days / td_secs)\n",
    "print(td_days // (11 * td_secs))\n",
    "\n",
    "prev_dttm = dttm - timedelta(hours=13, minutes=27)\n",
    "print(prev_dttm)\n",
    "\n",
    "diff = dttm - prev_dttm\n",
    "print(type(diff), diff)\n",
    "print(diff.total_seconds())"
   ]
  },
  {
   "cell_type": "markdown",
   "metadata": {
    "deletable": true,
    "editable": true
   },
   "source": [
    "---\n",
    "### Задача\n",
    "Написать функцию, которая будет принимать дату в формате \"гггг-мм-дд чч:мм:сс\" и возвращать понедельник той недели, к которой относится дата.<br/>\n",
    "Пример входа: \"2017-11-07 12:13:11\"<br/>\n",
    "Выход: \"2017-11-06\""
   ]
  },
  {
   "cell_type": "code",
   "execution_count": null,
   "metadata": {
    "collapsed": true,
    "deletable": true,
    "editable": true
   },
   "outputs": [],
   "source": [
    "def first_day_of_week(str_dttm):\n",
    "    pass"
   ]
  },
  {
   "cell_type": "markdown",
   "metadata": {
    "deletable": true,
    "editable": true
   },
   "source": [
    "---\n",
    "## 3. Библиотека Pandas\n",
    "Библиотека [Pandas](http://pandas.pydata.org/pandas-docs/stable/) предназначена для работы с табличными данными. Она представляет собой надстройку над библиотекой NumPy и позволяет обрабатывать данные, не уступая в функциональности Excel или SQL. \n",
    "\n",
    "Вся библиотека представляет из себя 3 базовых класса: Index, Series и DataFrame. Index - это практически неизменяемый аналог массива, с помощью которого индексируются данные в двух других классах. На нем мы подробно останавливаться не будем.\n",
    "\n",
    "### Класс Series\n",
    "Series - это одномерный массив индексированных данных. Аналог np.array, но при этом его индексами могут выступать не только целые числа."
   ]
  },
  {
   "cell_type": "code",
   "execution_count": 7,
   "metadata": {
    "collapsed": true,
    "deletable": true,
    "editable": true
   },
   "outputs": [],
   "source": [
    "import pandas as pd\n",
    "import numpy as np"
   ]
  },
  {
   "cell_type": "code",
   "execution_count": 4,
   "metadata": {
    "collapsed": false,
    "deletable": true,
    "editable": true
   },
   "outputs": [
    {
     "name": "stdout",
     "output_type": "stream",
     "text": [
      "0    1\n",
      "1    2\n",
      "2    3\n",
      "dtype: int64\n",
      "<class 'numpy.ndarray'> [1 2 3]\n",
      "<class 'pandas.indexes.range.RangeIndex'> RangeIndex(start=0, stop=3, step=1)\n"
     ]
    }
   ],
   "source": [
    "series = pd.Series([1, 2, 3])\n",
    "print(series)\n",
    "\n",
    "print(type(series.values), series.values)  # np.ndarray\n",
    "\n",
    "print(type(series.index), series.index)  # pd.Index"
   ]
  },
  {
   "cell_type": "markdown",
   "metadata": {
    "deletable": true,
    "editable": true
   },
   "source": [
    "#### Создание объекта Series"
   ]
  },
  {
   "cell_type": "code",
   "execution_count": 8,
   "metadata": {
    "collapsed": false,
    "deletable": true,
    "editable": true
   },
   "outputs": [
    {
     "name": "stdout",
     "output_type": "stream",
     "text": [
      "Маша      5\n",
      "Петя      4\n",
      "Костя     5\n",
      "Кирилл    3\n",
      "Саша      2\n",
      "dtype: int64\n",
      "10    3\n",
      "20    3\n",
      "30    3\n",
      "10    3\n",
      "dtype: int64\n",
      "10    3\n",
      "10    3\n",
      "dtype: int64\n",
      "a    4\n",
      "b    2\n",
      "c    6\n",
      "dtype: int64\n",
      "a    4\n",
      "c    6\n",
      "dtype: int64\n"
     ]
    }
   ],
   "source": [
    "# Из списка с указанием индекса\n",
    "grades = pd.Series([5, 4, 5, 3, 2], index=[\"Маша\", \"Петя\", \"Костя\", \"Кирилл\", \"Саша\"])\n",
    "print(grades)\n",
    "\n",
    "# Аналог [3] * 4\n",
    "s = pd.Series(3, index=[10, 20, 30, 10])  # индексы могут быть не уникальными\n",
    "print(s)\n",
    "print(s.loc[10])\n",
    "\n",
    "# Из словаря с ключами в качестве индексов\n",
    "s = pd.Series({'a': 4, 'b': 2, 'c': 6})  \n",
    "print(s)\n",
    "\n",
    "# Из части словаря\n",
    "s = pd.Series({'a': 4, 'b': 2, 'c': 6}, index=['a', 'c'])\n",
    "print(s)"
   ]
  },
  {
   "cell_type": "markdown",
   "metadata": {
    "deletable": true,
    "editable": true
   },
   "source": [
    "#### Индексаци и выборка данных из Series\n",
    "Объекты Series позволяют получать данные по индексу и делать срезы, аналогично спискам и массивам."
   ]
  },
  {
   "cell_type": "code",
   "execution_count": 6,
   "metadata": {
    "collapsed": false,
    "deletable": true,
    "editable": true
   },
   "outputs": [
    {
     "name": "stdout",
     "output_type": "stream",
     "text": [
      "4 4\n",
      "Маша      5\n",
      "Петя      4\n",
      "Костя     5\n",
      "Кирилл    3\n",
      "dtype: int64\n"
     ]
    },
    {
     "data": {
      "text/plain": [
       "Маша     5\n",
       "Петя     4\n",
       "Костя    5\n",
       "dtype: int64"
      ]
     },
     "execution_count": 6,
     "metadata": {},
     "output_type": "execute_result"
    }
   ],
   "source": [
    "print(grades[\"Петя\"], grades[1])\n",
    "\n",
    "# Срез по индексу\n",
    "print(grades[\"Маша\": \"Кирилл\"])  # границы включены!\n",
    "\n",
    "# Срез по неявному индексу\n",
    "(grades[:3])  # границы не включены"
   ]
  },
  {
   "cell_type": "markdown",
   "metadata": {
    "deletable": true,
    "editable": true
   },
   "source": [
    "Но в таком виде эту возможность использовать не нужно. Для индексации в Series **всегда** используйте loc и iloc, особенно если индекс числовой:\n",
    "    - loc - индексация по указанному при создании (явному) индексу\n",
    "    - iloc - индексация по неявному индексу\n",
    "Приведем пример данных, в которых эта разница критична."
   ]
  },
  {
   "cell_type": "code",
   "execution_count": 7,
   "metadata": {
    "collapsed": false,
    "deletable": true,
    "editable": true
   },
   "outputs": [
    {
     "name": "stdout",
     "output_type": "stream",
     "text": [
      "4     3\n",
      "3    19\n",
      "2    88\n",
      "1    33\n",
      "0    72\n",
      "dtype: int64\n",
      "series[0] = 72\n",
      "4     3\n",
      "3    19\n",
      "2    88\n",
      "dtype: int64\n",
      "series.loc[0] = 72\n",
      "4     3\n",
      "3    19\n",
      "dtype: int64\n",
      "series.iloc[0] = 3\n",
      "4     3\n",
      "3    19\n",
      "2    88\n",
      "dtype: int64\n"
     ]
    }
   ],
   "source": [
    "series = pd.Series(np.random.randint(100, size=5), index=range(5)[::-1])\n",
    "print(series)\n",
    "\n",
    "print(\"series[0] =\", series[0])  # использование явного индекса\n",
    "print(series[:3])  # использование неявного индекса\n",
    "\n",
    "# Правильное использование явного индекса\n",
    "print(\"series.loc[0] =\", series.loc[0])\n",
    "print(series.loc[:3])  # границы включены\n",
    "\n",
    "# Правильное использование неявного индекса\n",
    "print(\"series.iloc[0] =\", series.iloc[0])\n",
    "print(series.iloc[:3])"
   ]
  },
  {
   "cell_type": "markdown",
   "metadata": {
    "deletable": true,
    "editable": true
   },
   "source": [
    "Также можно проверять наличие данных в Series или его индексе, изменять значение по индексу (но не сам индекс!), использовать маскирование и прихотливую индексацию."
   ]
  },
  {
   "cell_type": "code",
   "execution_count": 8,
   "metadata": {
    "collapsed": false,
    "deletable": true,
    "editable": true
   },
   "outputs": [
    {
     "name": "stdout",
     "output_type": "stream",
     "text": [
      "True\n",
      "True\n",
      "True False\n",
      "\n",
      "Маша     5\n",
      "Петя     4\n",
      "Костя    5\n",
      "dtype: int64\n",
      "\n",
      "Саша      2\n",
      "Кирилл    3\n",
      "dtype: int64\n",
      "\n",
      "Маша      5\n",
      "Петя      4\n",
      "Костя     5\n",
      "Кирилл    3\n",
      "Саша      3\n",
      "dtype: int64\n"
     ]
    },
    {
     "ename": "TypeError",
     "evalue": "Index does not support mutable operations",
     "output_type": "error",
     "traceback": [
      "\u001b[0;31m---------------------------------------------------------------------------\u001b[0m",
      "\u001b[0;31mTypeError\u001b[0m                                 Traceback (most recent call last)",
      "\u001b[0;32m<ipython-input-8-a46d9296d702>\u001b[0m in \u001b[0;36m<module>\u001b[0;34m()\u001b[0m\n\u001b[1;32m      9\u001b[0m \u001b[0mprint\u001b[0m\u001b[0;34m(\u001b[0m\u001b[0mgrades\u001b[0m\u001b[0;34m)\u001b[0m\u001b[0;34m\u001b[0m\u001b[0m\n\u001b[1;32m     10\u001b[0m \u001b[0;34m\u001b[0m\u001b[0m\n\u001b[0;32m---> 11\u001b[0;31m \u001b[0mgrades\u001b[0m\u001b[0;34m.\u001b[0m\u001b[0mindex\u001b[0m\u001b[0;34m[\u001b[0m\u001b[0;36m0\u001b[0m\u001b[0;34m]\u001b[0m \u001b[0;34m=\u001b[0m \u001b[0;34m\"Мария\"\u001b[0m\u001b[0;34m\u001b[0m\u001b[0m\n\u001b[0m",
      "\u001b[0;32m/Users/rotax/anaconda2/envs/py34/lib/python3.4/site-packages/pandas/indexes/base.py\u001b[0m in \u001b[0;36m__setitem__\u001b[0;34m(self, key, value)\u001b[0m\n\u001b[1;32m   1402\u001b[0m \u001b[0;34m\u001b[0m\u001b[0m\n\u001b[1;32m   1403\u001b[0m     \u001b[0;32mdef\u001b[0m \u001b[0m__setitem__\u001b[0m\u001b[0;34m(\u001b[0m\u001b[0mself\u001b[0m\u001b[0;34m,\u001b[0m \u001b[0mkey\u001b[0m\u001b[0;34m,\u001b[0m \u001b[0mvalue\u001b[0m\u001b[0;34m)\u001b[0m\u001b[0;34m:\u001b[0m\u001b[0;34m\u001b[0m\u001b[0m\n\u001b[0;32m-> 1404\u001b[0;31m         \u001b[0;32mraise\u001b[0m \u001b[0mTypeError\u001b[0m\u001b[0;34m(\u001b[0m\u001b[0;34m\"Index does not support mutable operations\"\u001b[0m\u001b[0;34m)\u001b[0m\u001b[0;34m\u001b[0m\u001b[0m\n\u001b[0m\u001b[1;32m   1405\u001b[0m \u001b[0;34m\u001b[0m\u001b[0m\n\u001b[1;32m   1406\u001b[0m     \u001b[0;32mdef\u001b[0m \u001b[0m__getitem__\u001b[0m\u001b[0;34m(\u001b[0m\u001b[0mself\u001b[0m\u001b[0;34m,\u001b[0m \u001b[0mkey\u001b[0m\u001b[0;34m)\u001b[0m\u001b[0;34m:\u001b[0m\u001b[0;34m\u001b[0m\u001b[0m\n",
      "\u001b[0;31mTypeError\u001b[0m: Index does not support mutable operations"
     ]
    }
   ],
   "source": [
    "print(\"Маша\" in grades.index)\n",
    "print(5 in grades.values)\n",
    "print(\"Маша\" in grades, 5 in grades, end='\\n\\n')  # не стоит использовать\n",
    "\n",
    "print(grades[grades >= 4], end='\\n\\n')  # маскирование\n",
    "print(grades[[\"Саша\", \"Кирилл\"]], end='\\n\\n')  # прихотливая индексация\n",
    "\n",
    "grades[\"Саша\"] = 3\n",
    "print(grades)\n",
    "\n",
    "grades.index[0] = \"Мария\""
   ]
  },
  {
   "cell_type": "markdown",
   "metadata": {
    "deletable": true,
    "editable": true
   },
   "source": [
    "#### Арифметические операции над Series\n",
    "Series поддерживает все арифметические операции, используемые в массивах и списках. При операциях над двумя объектами Series они выравниваются по индексу. Для несовпадающих индексов результатом операции всегда будет NaN (np.nan)."
   ]
  },
  {
   "cell_type": "code",
   "execution_count": 9,
   "metadata": {
    "collapsed": false,
    "deletable": true,
    "editable": true
   },
   "outputs": [
    {
     "name": "stdout",
     "output_type": "stream",
     "text": [
      "4     6\n",
      "3    22\n",
      "2    91\n",
      "1    36\n",
      "0    75\n",
      "dtype: int64\n",
      "0    75.0\n",
      "1    37.0\n",
      "2    93.0\n",
      "3    25.0\n",
      "4    10.0\n",
      "5     NaN\n",
      "6     NaN\n",
      "7     NaN\n",
      "dtype: float64\n"
     ]
    },
    {
     "data": {
      "text/plain": [
       "(36.0, 6, 91, 46.0)"
      ]
     },
     "execution_count": 9,
     "metadata": {},
     "output_type": "execute_result"
    }
   ],
   "source": [
    "series = series + 3\n",
    "print(series)\n",
    "\n",
    "print(series + pd.Series(range(8), range(8)))  # выравнивание индексов\n",
    "\n",
    "np.median(series), series.min(), series.max(), series.mean()"
   ]
  },
  {
   "cell_type": "markdown",
   "metadata": {
    "deletable": true,
    "editable": true
   },
   "source": [
    "### DataFrame\n",
    "DataFrame - это базовая структура pandas, которую можно рассматривать как обобщенный np.ndarray или специализированный словарь. DataFrame представляет из себя набор объектов Series объединенных по одному индексу.\n",
    "\n",
    "В отличие от Series у DataFrame есть два \"индекса\": индекс (index) и столбцы (column). Оба они имеют тип pd.Index"
   ]
  },
  {
   "cell_type": "code",
   "execution_count": 10,
   "metadata": {
    "collapsed": false,
    "deletable": true,
    "editable": true
   },
   "outputs": [
    {
     "data": {
      "text/html": [
       "<div>\n",
       "<table border=\"1\" class=\"dataframe\">\n",
       "  <thead>\n",
       "    <tr style=\"text-align: right;\">\n",
       "      <th></th>\n",
       "      <th>0</th>\n",
       "      <th>1</th>\n",
       "      <th>2</th>\n",
       "      <th>3</th>\n",
       "    </tr>\n",
       "  </thead>\n",
       "  <tbody>\n",
       "    <tr>\n",
       "      <th>0</th>\n",
       "      <td>66</td>\n",
       "      <td>71</td>\n",
       "      <td>99</td>\n",
       "      <td>72</td>\n",
       "    </tr>\n",
       "    <tr>\n",
       "      <th>1</th>\n",
       "      <td>11</td>\n",
       "      <td>88</td>\n",
       "      <td>63</td>\n",
       "      <td>18</td>\n",
       "    </tr>\n",
       "    <tr>\n",
       "      <th>2</th>\n",
       "      <td>87</td>\n",
       "      <td>65</td>\n",
       "      <td>75</td>\n",
       "      <td>99</td>\n",
       "    </tr>\n",
       "  </tbody>\n",
       "</table>\n",
       "</div>"
      ],
      "text/plain": [
       "    0   1   2   3\n",
       "0  66  71  99  72\n",
       "1  11  88  63  18\n",
       "2  87  65  75  99"
      ]
     },
     "execution_count": 10,
     "metadata": {},
     "output_type": "execute_result"
    }
   ],
   "source": [
    "df = pd.DataFrame(np.random.randint(100, size=(3, 4)))\n",
    "df"
   ]
  },
  {
   "cell_type": "code",
   "execution_count": 11,
   "metadata": {
    "collapsed": false,
    "deletable": true,
    "editable": true
   },
   "outputs": [
    {
     "name": "stdout",
     "output_type": "stream",
     "text": [
      "RangeIndex(start=0, stop=4, step=1)\n",
      "RangeIndex(start=0, stop=3, step=1)\n",
      "[[66 71 99 72]\n",
      " [11 88 63 18]\n",
      " [87 65 75 99]]\n"
     ]
    }
   ],
   "source": [
    "print(df.columns)\n",
    "print(df.index)\n",
    "print(df.values)"
   ]
  },
  {
   "cell_type": "markdown",
   "metadata": {
    "deletable": true,
    "editable": true
   },
   "source": [
    "#### Создание объекта DataFrame"
   ]
  },
  {
   "cell_type": "code",
   "execution_count": 13,
   "metadata": {
    "collapsed": false,
    "deletable": true,
    "editable": true
   },
   "outputs": [
    {
     "name": "stdout",
     "output_type": "stream",
     "text": [
      "   col0  col1  col2  col3\n",
      "a     6    70    92    39\n",
      "b    76    11    59    94\n",
      "c    60    86    90     4\n",
      "   A    B\n",
      "0  0  0.0\n",
      "1  0  0.0\n",
      "2  0  0.0\n",
      "     a   b    c\n",
      "0  1.0   3  NaN\n",
      "1  NaN  10  7.0\n",
      "        grade\n",
      "Маша        5\n",
      "Петя        4\n",
      "Костя       5\n",
      "Кирилл      3\n",
      "Саша        3\n",
      "        Маша  Петя  Костя  Кирилл  Саша\n",
      "first      5     4      5       3     3\n",
      "second     6     5      6       4     4\n",
      "        grade  group\n",
      "Маша        5    297\n",
      "Петя        4    293\n",
      "Костя       5    298\n",
      "Кирилл      3    291\n",
      "Саша        3    295\n"
     ]
    }
   ],
   "source": [
    "# Из ndarray с указанием столбцов и индексов\n",
    "df = pd.DataFrame(np.random.randint(100, size=(3, 4)), index=['a', 'b', 'c'],\n",
    "                  columns=['col'+str(i) for i in range(4)])\n",
    "print(df)\n",
    "\n",
    "# Из структурированного массива (optional)\n",
    "data = np.zeros(3, dtype=[('A', 'i8'), ('B', 'f8')])\n",
    "df = pd.DataFrame(data)\n",
    "print(df)\n",
    "\n",
    "# Из списка словарей\n",
    "df = pd.DataFrame([{'a': 1, 'b': 3}, {'c': 7, 'b':10}])\n",
    "print(df)\n",
    "\n",
    "# Из одного объекта Series\n",
    "df = pd.DataFrame(grades, columns=['grade'])\n",
    "print(df)\n",
    "\n",
    "# Из объекта (-ов) Series, как массивов\n",
    "df = pd.DataFrame([grades, grades+1], index=['first', 'second'])\n",
    "print(df)\n",
    "\n",
    "# Из нескольких Series\n",
    "groups = pd.Series([297, 293, 298, 291, 295], index=grades.index)\n",
    "df = pd.DataFrame({'group': groups, 'grade': grades})\n",
    "print(df)"
   ]
  },
  {
   "cell_type": "markdown",
   "metadata": {
    "deletable": true,
    "editable": true
   },
   "source": [
    "#### Индексация и выборка данных из DataFrame\n",
    "На самом деле DataFrame -- это транспонированный (перевернутый) np.ndarray: индексация происходит сначала по столбцам, а только потом по строкам. Но в остальном он очень похож на массив."
   ]
  },
  {
   "cell_type": "code",
   "execution_count": null,
   "metadata": {
    "collapsed": false,
    "deletable": true,
    "editable": true
   },
   "outputs": [],
   "source": [
    "try:\n",
    "    df[\"Маша\"]  # raise exception\n",
    "except KeyError as e:\n",
    "    print(\"Error in key:\", e, end='\\n\\n')\n",
    "\n",
    "# Получение столбца\n",
    "print(df[\"grade\"])\n",
    "print(df.grade is df[\"grade\"], end='\\n\\n')  # эквивалетное обращение\n",
    "\n",
    "# Получение конкретного элемента\n",
    "print(df[\"group\"][\"Маша\"] == df.values[0, 1], end='\\n\\n')\n",
    "\n",
    "# Аналогично Series работают loc/iloc для индексов\n",
    "print(df.loc[\"Маша\"])  # получение строки по индексу\n",
    "print(df.iloc[0], end='\\n\\n')\n",
    "\n",
    "# Срезы\n",
    "print(df.loc[\"Маша\":\"Костя\", :\"group\"])  # внимание на порядок!\n",
    "print(df.loc[\"Маша\":\"Костя\"])  # можно использовать без среза по столбцам\n",
    "print(df.iloc[:2, :1], end='\\n\\n')\n",
    "\n",
    "# Прихотливая индексация\n",
    "print(df[[\"group\"]], end='\\n\\n')\n",
    "\n",
    "# Маскирование\n",
    "print(df.loc[df.grade >= 4])\n",
    "print(df[df.grade >= 4])  # loc можно опускать\n",
    "print(df.loc[df.grade >= 4, [\"group\"]], end='\\n\\n')  # а можно объединять с прихотливой индексацией"
   ]
  },
  {
   "cell_type": "markdown",
   "metadata": {
    "deletable": true,
    "editable": true
   },
   "source": [
    "#### Арифметические операции над DataFrame\n",
    "Для объектов DataFrame также доступны все арифметические операции и операции над строками, как в NumPy. По умолчанию любая арифметическая операция будет выполняться построчно, но всегда можно использовать дополнительный параметр **axis**, чтобы указать, что операция должна быть выполнена для строк.<br/>\n",
    "Также бывает удобно быстро создавать новые столбцы как результаты простых операций над существующими столбцами."
   ]
  },
  {
   "cell_type": "code",
   "execution_count": null,
   "metadata": {
    "collapsed": false,
    "deletable": true,
    "editable": true
   },
   "outputs": [],
   "source": [
    "A = pd.DataFrame(np.random.randint(100, size=(2,3)))\n",
    "B = pd.DataFrame(np.random.randint(100, size=(3,2)))\n",
    "print(A)\n",
    "print(B)\n",
    "C = A+B\n",
    "C"
   ]
  },
  {
   "cell_type": "code",
   "execution_count": null,
   "metadata": {
    "collapsed": false,
    "deletable": true,
    "editable": true
   },
   "outputs": [],
   "source": [
    "df[\"grade_up\"] = df.grade + 1\n",
    "print(df)\n",
    "\n",
    "df.grade_upup = df.grade + 5  # не работает так, как предполагалось\n",
    "print(df)\n",
    "print(df.grade_upup)"
   ]
  },
  {
   "cell_type": "code",
   "execution_count": null,
   "metadata": {
    "collapsed": false,
    "deletable": true,
    "editable": true
   },
   "outputs": [],
   "source": [
    "print(df + df[\"grade\"])  # прибавляет столбец ко всем строкам с выравниванием индексов\n",
    "print(df - df.iloc[0])  # построчное вычитание\n",
    "print(df.subtract(df.grade, axis=0))  # вычитание по столбцам"
   ]
  },
  {
   "cell_type": "markdown",
   "metadata": {
    "deletable": true,
    "editable": true
   },
   "source": [
    "### Работа с пропущенными данными\n",
    "Чтобы найти пропущенные значения можно использовать методы isnull и notnull. После чего есть два варианта работы с пропущенными (None или np.nan) данными в Series и DataFrame: убрать все пропущенные значения (dropna) или присвоить им конкретные значения (fillna)."
   ]
  },
  {
   "cell_type": "code",
   "execution_count": null,
   "metadata": {
    "collapsed": false,
    "deletable": true,
    "editable": true
   },
   "outputs": [],
   "source": [
    "print(C.loc[2].isnull())\n",
    "print(C.notnull())"
   ]
  },
  {
   "cell_type": "code",
   "execution_count": null,
   "metadata": {
    "collapsed": false,
    "deletable": true,
    "editable": true
   },
   "outputs": [],
   "source": [
    "# Удаление пропущенных данных\n",
    "C.loc[0, 2] = C.loc[2, 0] = 1\n",
    "print(C, end='\\n\\n')\n",
    "\n",
    "print(C.dropna())  # удаление всех строк, в которых встречается пустое значение\n",
    "print(C.dropna(axis=1))  # удаление всех столбцов, в которых встречается пустое значение\n",
    "print(C.dropna(axis='columns'), end='\\n\\n')  # эквивалент предыдущему\n",
    "\n",
    "print(C.dropna(how='all'))  # удаление всех строк, в которых все значения пустые\n",
    "print(C.dropna(thresh=2))  # удаление всех строк, в которых хотя бы 2 значения пустые"
   ]
  },
  {
   "cell_type": "code",
   "execution_count": null,
   "metadata": {
    "collapsed": false,
    "deletable": true,
    "editable": true
   },
   "outputs": [],
   "source": [
    "# Заполнение пропущенных данных\n",
    "print(C.fillna(0))  # заполнение всех пропущенных данных нулями\n",
    "print(C.loc[1].fillna(0), end='\\n\\n')  # заполнение пропущенных в столбце данных\n",
    "\n",
    "print(C.loc[1].fillna(method='ffill'))  # заполнение ближайшим предыдущим значением (bfill - следующим)\n",
    "print(C.fillna(method='ffill'))  # заполнение по строкам\n",
    "print(C.fillna(method='ffill', axis=1))  # по столбцам"
   ]
  },
  {
   "cell_type": "markdown",
   "metadata": {
    "collapsed": true,
    "deletable": true,
    "editable": true
   },
   "source": [
    "### Работа с данными\n",
    "Есть несколько способов работы с данными в DataFrame. Первый -- проитерироваться по всем строкам или столбцам:"
   ]
  },
  {
   "cell_type": "code",
   "execution_count": null,
   "metadata": {
    "collapsed": false,
    "deletable": true,
    "editable": true
   },
   "outputs": [],
   "source": [
    "for index, row in df.iterrows():\n",
    "    print(index)\n",
    "    print(row, end='\\n\\n')\n",
    "    row['grade_up'] = min(row.grade_up, 5)\n",
    "df"
   ]
  },
  {
   "cell_type": "markdown",
   "metadata": {
    "deletable": true,
    "editable": true
   },
   "source": [
    "Второй -- использование метода apply. Для объектов Series он применяет переданную функцию к каждому элементу, для DataFrame -- к каждому столбцу (по умолчанию), чтобы применить к каждой строке необходимо указать параметр axis=1."
   ]
  },
  {
   "cell_type": "code",
   "execution_count": null,
   "metadata": {
    "collapsed": false,
    "deletable": true,
    "editable": true
   },
   "outputs": [],
   "source": [
    "df[\"passed_flg\"] = df.grade.apply(lambda x: x >= 4)\n",
    "df[\"avg_grade\"] = df.apply(lambda row: (row.grade + row.grade_up) / 2, axis=1)  # применение функции к каждой строке\n",
    "print(df, end='\\n\\n')\n",
    "\n",
    "def modify_column(column):\n",
    "    return sum(column)\n",
    "\n",
    "print(df.apply(modify_column))  # применение функции к каждому столбцу\n",
    "df.apply(lambda x: x if x.name in [\"grade\", \"group\"] else 0)"
   ]
  },
  {
   "cell_type": "markdown",
   "metadata": {
    "deletable": true,
    "editable": true
   },
   "source": [
    "Также можно добавлять строки к DataFrame и объединять их друг с другом."
   ]
  },
  {
   "cell_type": "code",
   "execution_count": null,
   "metadata": {
    "collapsed": false,
    "deletable": true,
    "editable": true
   },
   "outputs": [],
   "source": [
    "student = pd.Series(dict(grade=4, group=296))\n",
    "print(df.append(student, ignore_index=True))  # но все имена стерлись\n",
    "student.name = \"Миша\"\n",
    "print(df.append(student))"
   ]
  },
  {
   "cell_type": "code",
   "execution_count": null,
   "metadata": {
    "collapsed": false,
    "deletable": true,
    "editable": true,
    "scrolled": false
   },
   "outputs": [],
   "source": [
    "other_df = pd.DataFrame([\n",
    "    dict(grade=2, group=299),\n",
    "    dict(grade=4, group=292)\n",
    "], index=[\"Оля\", \"Максим\"])\n",
    "\n",
    "tmp = pd.concat([df, other_df])\n",
    "print(tmp)\n",
    "\n",
    "# Можно проверять на дублирование индексов\n",
    "try:\n",
    "    pd.concat([tmp, other_df], verify_integrity=True)\n",
    "except ValueError as e:\n",
    "    print(e)\n",
    "\n",
    "# Также объединять можно с помощью append\n",
    "df.append(other_df)"
   ]
  },
  {
   "cell_type": "markdown",
   "metadata": {
    "deletable": true,
    "editable": true
   },
   "source": [
    "### DataFrame и SQL\n",
    "В Pandas можно использовать операции аналогичные SQL. Подробно про соответствие можно прочитать [в документации](https://pandas.pydata.org/pandas-docs/stable/comparison_with_sql.html). Мы не будет проводить сравнение, а просто рассмотрим полезные методы: join и groupby.\n",
    "\n",
    "В pandas также можно составлять сводные таблицы с помощью метода [pivot_table](https://pandas.pydata.org/pandas-docs/stable/generated/pandas.pivot_table.html), но мы его рассматривать не будем."
   ]
  },
  {
   "cell_type": "code",
   "execution_count": null,
   "metadata": {
    "collapsed": false,
    "deletable": true,
    "editable": true
   },
   "outputs": [],
   "source": [
    "def get_df(size, index=None, columns=None):\n",
    "    return pd.DataFrame(np.random.randint(5, size=size), index=index, columns=columns)\n",
    "\n",
    "A = get_df((4,2), columns=['a', 'b'])\n",
    "B = get_df((3,3), columns=['a', 'b', 'd'])\n",
    "print(A, B, sep='\\n', end='\\n\\n')\n",
    "\n",
    "# JOIN по индексу\n",
    "print(A.join(B, how='inner', lsuffix='_left'), end='\\n\\n')\n",
    "\n",
    "# JOIN по столбцу\n",
    "print(pd.merge(A, B, how='right', on='a'), end='\\n\\n')\n",
    "print(pd.merge(A, B, how='outer', on=['a', 'b']), end='\\n\\n')  # составной ключ"
   ]
  },
  {
   "cell_type": "markdown",
   "metadata": {
    "deletable": true,
    "editable": true
   },
   "source": [
    "Другой вариант выполнения join по столбцу - это предварительное установление его в качестве индекса с помощью set_index. При этом в качестве индекса может выступать несколько столбцов одновременно (мультииндекс). Обратной операцией к set_index является reset_index."
   ]
  },
  {
   "cell_type": "code",
   "execution_count": null,
   "metadata": {
    "collapsed": false,
    "deletable": true,
    "editable": true
   },
   "outputs": [],
   "source": [
    "A = get_df((10, 3), columns=['a', 'b', 'c'])\n",
    "print(A, end='\\n\\n')\n",
    "\n",
    "B = A.groupby('a')[['b']].sum()\n",
    "print(B, end='\\n\\n')\n",
    "\n",
    "B = A.groupby('a').agg({\n",
    "    'b': 'mean',\n",
    "    'c': lambda x: ''.join(map(str, x))\n",
    "})\n",
    "print(B, end='\\n\\n')"
   ]
  },
  {
   "cell_type": "markdown",
   "metadata": {
    "deletable": true,
    "editable": true
   },
   "source": [
    "### Чтение и запись данных\n",
    "В библиотеке Pandas поддерживается чтение и запись данных в форматах csv (DSV) и excel."
   ]
  },
  {
   "cell_type": "code",
   "execution_count": null,
   "metadata": {
    "collapsed": false,
    "deletable": true,
    "editable": true
   },
   "outputs": [],
   "source": [
    "columns = \"Year,Make,Model,Description,Price\".split(',')\n",
    "\n",
    "# Чтение CSV\n",
    "# если первая строка содержит названия столбцов, names можно опустить\n",
    "df = pd.read_csv(\"doc/sample.csv\", names=columns)\n",
    "print(df)\n",
    "\n",
    "# Чтение DSV\n",
    "df = pd.read_csv(\"doc/mod_sample.csv\", names=columns, sep=' ', quotechar='|')\n",
    "print(df)\n",
    "\n",
    "# Запись в файл\n",
    "file = \"doc/df_sample.csv\"\n",
    "df.to_csv(file, index=False)\n",
    "content = read(file)"
   ]
  },
  {
   "cell_type": "code",
   "execution_count": null,
   "metadata": {
    "collapsed": false,
    "deletable": true,
    "editable": true
   },
   "outputs": [],
   "source": [
    "# Чтение из excel\n",
    "file = \"doc/sample.xlsx\"\n",
    "df = pd.read_excel(file)\n",
    "print(df)\n",
    "\n",
    "# Запись в excel\n",
    "writer = pd.ExcelWriter(file)\n",
    "df.to_excel(writer)\n",
    "writer.save()"
   ]
  },
  {
   "cell_type": "markdown",
   "metadata": {
    "deletable": true,
    "editable": true
   },
   "source": [
    "---\n",
    "## Самостоятельная работа\n",
    "Для примера разберем датасет про зафиксированные появления инопланетян. Он находится в файле \"doc/ufo_sightings.csv\".\n",
    "### Задача 1\n",
    "Предобработайте данные:\n",
    "1. Обработайте все пропущенные значения в данных (с минимальными потерями)\n",
    "2. Приведите все даты к формату: гггг-мм-дд чч:мм:сс\n",
    "3. Приведите все данные в столбцах к единому формату\n",
    "4. Приведите широту и долготу к типу int"
   ]
  },
  {
   "cell_type": "code",
   "execution_count": null,
   "metadata": {
    "collapsed": false,
    "deletable": true,
    "editable": true
   },
   "outputs": [],
   "source": [
    "file = \"doc/ufo_sightings.csv\"\n",
    "\n",
    "# Чтение данных\n",
    "\n",
    "df.head()"
   ]
  },
  {
   "cell_type": "code",
   "execution_count": null,
   "metadata": {
    "collapsed": true,
    "deletable": true,
    "editable": true
   },
   "outputs": [],
   "source": [
    "# Заполнение пропущенных данных"
   ]
  },
  {
   "cell_type": "code",
   "execution_count": null,
   "metadata": {
    "collapsed": false,
    "deletable": true,
    "editable": true
   },
   "outputs": [],
   "source": [
    "def fix_time(date, dformat):\n",
    "    pass\n",
    "\n",
    "# Приведение дат к нужному формату"
   ]
  },
  {
   "cell_type": "code",
   "execution_count": null,
   "metadata": {
    "collapsed": false,
    "deletable": true,
    "editable": true
   },
   "outputs": [],
   "source": [
    "def convert_time(str_time):\n",
    "    pass\n",
    "\n",
    "# Добавьте в DataFrame столбец duration_sec (если время точно не определено, укажите максимальное время)"
   ]
  },
  {
   "cell_type": "code",
   "execution_count": null,
   "metadata": {
    "collapsed": true,
    "deletable": true,
    "editable": true
   },
   "outputs": [],
   "source": [
    "# Приведение типов: см. Series.astype()"
   ]
  },
  {
   "cell_type": "markdown",
   "metadata": {
    "deletable": true,
    "editable": true
   },
   "source": [
    "### Задача 2\n",
    "Посчитать для каждого года, в какой стране наибольшее число раз было зафиксировано появление инопланетян."
   ]
  },
  {
   "cell_type": "code",
   "execution_count": null,
   "metadata": {
    "collapsed": true,
    "deletable": true,
    "editable": true
   },
   "outputs": [],
   "source": [
    "# Выделить столбец год"
   ]
  },
  {
   "cell_type": "code",
   "execution_count": null,
   "metadata": {
    "collapsed": true,
    "deletable": true,
    "editable": true
   },
   "outputs": [],
   "source": [
    "# Подсчитать количество появлений инопланетян в каждой стране в каждом году"
   ]
  },
  {
   "cell_type": "code",
   "execution_count": null,
   "metadata": {
    "collapsed": true,
    "deletable": true,
    "editable": true
   },
   "outputs": [],
   "source": [
    "# Решить задачу =)\n",
    "\n",
    "# HINT: есть несколько вариантов решения\n",
    "# наиболее очевидный - проитерироваться по DataFrame, наименее - погуглить про transform"
   ]
  },
  {
   "cell_type": "markdown",
   "metadata": {
    "deletable": true,
    "editable": true
   },
   "source": [
    "### Задача 3*\n",
    "Придумайте какие-нибудь интересные метрики (например, среднее число появлений инопланетян в каждом штате) и посчитайте их. Не менее 5 метрик."
   ]
  },
  {
   "cell_type": "code",
   "execution_count": null,
   "metadata": {
    "collapsed": true,
    "deletable": true,
    "editable": true
   },
   "outputs": [],
   "source": [
    "# Ваша фантазия"
   ]
  }
 ],
 "metadata": {
  "kernelspec": {
   "display_name": "Python 3",
   "language": "python",
   "name": "python3"
  },
  "language_info": {
   "codemirror_mode": {
    "name": "ipython",
    "version": 3
   },
   "file_extension": ".py",
   "mimetype": "text/x-python",
   "name": "python",
   "nbconvert_exporter": "python",
   "pygments_lexer": "ipython3",
   "version": "3.6.3"
  }
 },
 "nbformat": 4,
 "nbformat_minor": 2
}
