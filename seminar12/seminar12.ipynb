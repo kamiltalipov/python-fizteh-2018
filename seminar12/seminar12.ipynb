{
 "cells": [
  {
   "cell_type": "markdown",
   "metadata": {
    "collapsed": true,
    "deletable": true,
    "editable": true
   },
   "source": [
    "# Работа с реляционными базыми данных"
   ]
  },
  {
   "cell_type": "markdown",
   "metadata": {
    "deletable": true,
    "editable": true
   },
   "source": [
    "### План\n",
    "1. Вспоминаем курс БД: Реляционная базы данных и Язык SQL\n",
    "1. SQLite3\n",
    "1. ORM. [SQLAlchemy](http://www.sqlalchemy.org)"
   ]
  },
  {
   "cell_type": "markdown",
   "metadata": {
    "deletable": true,
    "editable": true
   },
   "source": [
    "### Реляционная базы данных"
   ]
  },
  {
   "cell_type": "markdown",
   "metadata": {
    "deletable": true,
    "editable": true
   },
   "source": [
    "Реляционные базы данных:\n",
    "  * Связанная информация, хранящаяся в двумерных таблицах\n",
    "  * Каждая таблица представляет собой набор полей (колонки) и набор объектов (записей)\n",
    "  * Порядок записей в таблице произволен, столбцов - фиксирован\n",
    "  * Идентификация записей осуществляется с помощью первичных ключей\n",
    "\n",
    "Если коротко, то реляционные базы данных - это таблицы с индексами для быстрого поиска, связанные между собой"
   ]
  },
  {
   "cell_type": "markdown",
   "metadata": {
    "deletable": true,
    "editable": true
   },
   "source": [
    "### Язык SQL"
   ]
  },
  {
   "cell_type": "markdown",
   "metadata": {
    "deletable": true,
    "editable": true
   },
   "source": [
    "* [Язык структурированных запросов](https://ru.wikipedia.org/wiki/SQL)\n",
    "* Стандартизирован, но БД пытаются соответствовать стандарту ANSI не позволяя ему ограничивать их слишком сильно\n",
    "* Типы: Числа (INTEGER и DECIMAL), строки (CHAR, VARCHAR) и т.д.\n",
    "* Операторы: SELECT FROM, WHERE, GROUP BY, COUNT, HAVING и т.д.\n",
    "* Джойны: Inner join, outer join и т.д.\n",
    "* Подзапросы\n",
    "* Команды модификации: INSERT, DELETE, UPDATE\n",
    "* Создание таблиц\n"
   ]
  },
  {
   "cell_type": "markdown",
   "metadata": {
    "deletable": true,
    "editable": true
   },
   "source": [
    "### SQLite3"
   ]
  },
  {
   "cell_type": "markdown",
   "metadata": {
    "deletable": true,
    "editable": true
   },
   "source": [
    "<img src='pictures/sqlite.png' />"
   ]
  },
  {
   "cell_type": "markdown",
   "metadata": {
    "deletable": true,
    "editable": true
   },
   "source": [
    "* Простейший способ использовать БД\n",
    "* Вся БД хранится в одном файле\n",
    "* Отличный способ иметь БД в мобильных приложениях\n",
    "* Доступ из коммандной строки: sqlite3 filename\n",
    "* API для Python, с++ и т.д."
   ]
  },
  {
   "cell_type": "markdown",
   "metadata": {
    "deletable": true,
    "editable": true
   },
   "source": [
    "Посмотрим как работать с sqlite3 из python, на примере простой базы с пользователями"
   ]
  },
  {
   "cell_type": "markdown",
   "metadata": {
    "deletable": true,
    "editable": true
   },
   "source": [
    "Для начала создадим таблицы:"
   ]
  },
  {
   "cell_type": "code",
   "execution_count": 60,
   "metadata": {
    "collapsed": false,
    "deletable": true,
    "editable": true
   },
   "outputs": [],
   "source": [
    "import sqlite3\n",
    "\n",
    "conn = sqlite3.connect('example.db')\n",
    "cur = conn.cursor() #Объект для исполнения SQL запросов над базой\n",
    "\n",
    "#Просто пишем SQL запрос для создания таблиц\n",
    "cur.execute('''\n",
    "    CREATE TABLE user_types (\n",
    "        id INTEGER PRIMARY KEY AUTOINCREMENT,\n",
    "        name VARCHAR(255)\n",
    "    )\n",
    "''')\n",
    "cur.execute('''\n",
    "    CREATE TABLE users (\n",
    "        id INTEGER PRIMARY KEY AUTOINCREMENT,\n",
    "        first_name VARCHAR(255),\n",
    "        last_name VARCHAR(255),\n",
    "        active BOOLEAN,\n",
    "        profile INTEGER,\n",
    "        FOREIGN KEY(profile) REFERENCES user_types(id)\n",
    "    )\n",
    "''')\n",
    "\n",
    "conn.commit() # Отправить текущую транзакцию. \n",
    "# Если не сделать, то изменения не будут видны в других connect'ax\n",
    "\n",
    "conn.close() # Не вызывает commit автоматически!"
   ]
  },
  {
   "cell_type": "markdown",
   "metadata": {
    "collapsed": true,
    "deletable": true,
    "editable": true
   },
   "source": [
    "Работать с пустыми таблицами - не очень интересно, давайте заполним их"
   ]
  },
  {
   "cell_type": "code",
   "execution_count": 61,
   "metadata": {
    "collapsed": true
   },
   "outputs": [],
   "source": [
    "conn = sqlite3.connect('example.db')\n",
    "cur = conn.cursor()\n",
    "\n",
    "#таблиаца user_types\n",
    "cur.execute('''\n",
    "    INSERT INTO user_types (name) VALUES (\"Student\")\n",
    "''')\n",
    "cur.execute('''\n",
    "    INSERT INTO user_types (name) VALUES (\"Teacher\")\n",
    "''')\n",
    "\n",
    "#таблица users\n",
    "cur.execute('''\n",
    "    INSERT INTO users (first_name, last_name, active, profile) VALUES \n",
    "        (\"Maxim\", \"Popov\", 1, (SELECT id FROM user_types WHERE name = \"Teacher\"))\n",
    "''')\n",
    "cur.execute('''\n",
    "    INSERT INTO users (first_name, last_name, active, profile) VALUES \n",
    "        (\"Igor\", \"Orlov\", 1, (SELECT id FROM user_types WHERE name = \"Teacher\"))\n",
    "''')\n",
    "cur.execute('''\n",
    "    INSERT INTO users (first_name, last_name, active, profile) VALUES \n",
    "        (\"Ivan\", \"Ivanov\", 0, (SELECT id FROM user_types WHERE name = \"Student\"))\n",
    "''')\n",
    "cur.execute('''\n",
    "    INSERT INTO users (first_name, last_name, active, profile) VALUES \n",
    "        (\"Petr\", \"Petrov\", 0, (SELECT id FROM user_types WHERE name = \"Student\"))\n",
    "''')\n",
    "cur.execute('''\n",
    "    INSERT INTO users (first_name, last_name, active, profile) VALUES \n",
    "        (\"Petr\", \"Sidorov\", 0, (SELECT id FROM user_types WHERE name = \"Student\"))\n",
    "''')\n",
    "\n",
    "conn.commit()\n",
    "\n",
    "conn.close()"
   ]
  },
  {
   "cell_type": "markdown",
   "metadata": {},
   "source": [
    "Попробуем теперь зачитать всех студентов"
   ]
  },
  {
   "cell_type": "code",
   "execution_count": 62,
   "metadata": {
    "collapsed": false
   },
   "outputs": [
    {
     "name": "stdout",
     "output_type": "stream",
     "text": [
      "Ivan Ivanov\n",
      "Petr Petrov\n",
      "Petr Sidorov\n"
     ]
    }
   ],
   "source": [
    "conn = sqlite3.connect(\"example.db\")\n",
    "\n",
    "def select_all_students(conn):\n",
    "    query = '''SELECT users.first_name, users.last_name \n",
    "               FROM users \n",
    "               WHERE profile = (SELECT id FROM user_types WHERE name = \"Student\")'''\n",
    "    cur = conn.cursor()\n",
    "    cur.execute(query)\n",
    "\n",
    "    rows = cur.fetchall() #Получить все строчки результата выполнения query\n",
    "    #Это не всегда быстро, особенно если много результатов\n",
    "    # Кроме того большое потребление памяти, так как возвращается list\n",
    "    \n",
    "    #rows = cur.fetchmany(10) # Как fetchall только задаем сколько хотим получить\n",
    "\n",
    "    for row in rows:\n",
    "        first_name, last_name = row\n",
    "        print(first_name, last_name)\n",
    "        \n",
    "select_all_students(conn)"
   ]
  },
  {
   "cell_type": "code",
   "execution_count": 63,
   "metadata": {
    "collapsed": true
   },
   "outputs": [],
   "source": [
    "def select_all_students_optimized(conn):\n",
    "    query = '''SELECT users.first_name, users.last_name \n",
    "               FROM users \n",
    "               WHERE profile = (SELECT id FROM user_types WHERE name = \"Student\")'''\n",
    "    cur = conn.cursor()\n",
    "    cur.execute(query)\n",
    "    \n",
    "    #Можно получать результаты по одному\n",
    "    #row = cur.fetchone()\n",
    "    #while row is not None:\n",
    "    #    first_name, last_name = row\n",
    "    #    print(first_name, last_name)\n",
    "    #    row = cur.fetchone()\n",
    "    \n",
    "    #А лучше просто проитерироваться\n",
    "    for row in cur:\n",
    "        first_name, last_name = row\n",
    "        print(first_name, last_name)"
   ]
  },
  {
   "cell_type": "code",
   "execution_count": 64,
   "metadata": {
    "collapsed": false
   },
   "outputs": [
    {
     "name": "stdout",
     "output_type": "stream",
     "text": [
      "Ivan Ivanov\n",
      "Petr Petrov\n",
      "Petr Sidorov\n"
     ]
    }
   ],
   "source": [
    "select_all_students_optimized(conn)"
   ]
  },
  {
   "cell_type": "markdown",
   "metadata": {},
   "source": [
    "Попробуем сделать учителя Maxim Popov студентом"
   ]
  },
  {
   "cell_type": "code",
   "execution_count": 65,
   "metadata": {
    "collapsed": false
   },
   "outputs": [
    {
     "name": "stdout",
     "output_type": "stream",
     "text": [
      "Maxim Popov\n",
      "Ivan Ivanov\n",
      "Petr Petrov\n",
      "Petr Sidorov\n"
     ]
    }
   ],
   "source": [
    "cur = conn.cursor()\n",
    "cur.execute('''UPDATE users SET profile = (SELECT id FROM user_types WHERE name = \"Student\")\n",
    "               WHERE first_name = \"Maxim\" AND last_name = \"Popov\"\n",
    "''')\n",
    "select_all_students_optimized(conn)"
   ]
  },
  {
   "cell_type": "code",
   "execution_count": 66,
   "metadata": {
    "collapsed": true
   },
   "outputs": [],
   "source": [
    "conn.close()"
   ]
  },
  {
   "cell_type": "markdown",
   "metadata": {},
   "source": [
    "### SQLAlchemy"
   ]
  },
  {
   "cell_type": "markdown",
   "metadata": {},
   "source": [
    "<img src='pictures/sql_alchemy.png' />"
   ]
  },
  {
   "cell_type": "code",
   "execution_count": 67,
   "metadata": {
    "collapsed": false
   },
   "outputs": [],
   "source": [
    "import sqlalchemy\n",
    "from sqlalchemy import create_engine"
   ]
  },
  {
   "cell_type": "code",
   "execution_count": 68,
   "metadata": {
    "collapsed": false
   },
   "outputs": [],
   "source": [
    "engine = create_engine('sqlite:///example_alchemy.db', echo=True)\n",
    "# engine = create_engine('sqlite:///:memory:', echo=True)\n",
    "\n",
    "#echo=True - для дополнительного логгирования"
   ]
  },
  {
   "cell_type": "markdown",
   "metadata": {},
   "source": [
    "Опишем данные, которые хотим хранить"
   ]
  },
  {
   "cell_type": "code",
   "execution_count": 69,
   "metadata": {
    "collapsed": false
   },
   "outputs": [],
   "source": [
    "from sqlalchemy.ext.declarative import declarative_base\n",
    "from sqlalchemy import Column, Integer, String, Boolean\n",
    "from sqlalchemy import ForeignKey\n",
    "from sqlalchemy.orm import relationship\n",
    "\n",
    "Base = declarative_base()\n",
    "\n",
    "class UserType(Base):\n",
    "    __tablename__ = 'user_types'\n",
    "    \n",
    "    id = Column(Integer, primary_key=True)\n",
    "    name = Column(String)\n",
    "    users = relationship(\"User\")\n",
    "    \n",
    "    def __repr__(self):\n",
    "        return \"<UserType(name={})>\".format(self.name)  \n",
    "\n",
    "class User(Base):\n",
    "    __tablename__ = 'users'\n",
    "    \n",
    "    id = Column(Integer, primary_key=True)\n",
    "    first_name = Column(String)\n",
    "    last_name = Column(String)\n",
    "    active = Column(Boolean)\n",
    "    profile_id = Column(Integer, ForeignKey('user_types.id'))\n",
    "    profile = relationship(\"UserType\", back_populates=\"users\")\n",
    "    \n",
    "    def __repr__(self):\n",
    "        return \"<User(first_name={}, last_name={}, active={})>\".format(self.first_name, self.last_name, self.active)\n",
    "    "
   ]
  },
  {
   "cell_type": "code",
   "execution_count": 70,
   "metadata": {
    "collapsed": false
   },
   "outputs": [
    {
     "data": {
      "text/plain": [
       "Table('users', MetaData(bind=None), Column('id', Integer(), table=<users>, primary_key=True, nullable=False), Column('first_name', String(), table=<users>), Column('last_name', String(), table=<users>), Column('active', Boolean(), table=<users>), Column('profile_id', Integer(), ForeignKey('user_types.id'), table=<users>), schema=None)"
      ]
     },
     "execution_count": 70,
     "metadata": {},
     "output_type": "execute_result"
    }
   ],
   "source": [
    "User.__table__"
   ]
  },
  {
   "cell_type": "code",
   "execution_count": 71,
   "metadata": {
    "collapsed": false
   },
   "outputs": [
    {
     "name": "stdout",
     "output_type": "stream",
     "text": [
      "2018-04-27 10:54:30,900 INFO sqlalchemy.engine.base.Engine SELECT CAST('test plain returns' AS VARCHAR(60)) AS anon_1\n",
      "2018-04-27 10:54:30,903 INFO sqlalchemy.engine.base.Engine ()\n",
      "2018-04-27 10:54:30,908 INFO sqlalchemy.engine.base.Engine SELECT CAST('test unicode returns' AS VARCHAR(60)) AS anon_1\n",
      "2018-04-27 10:54:30,911 INFO sqlalchemy.engine.base.Engine ()\n",
      "2018-04-27 10:54:30,916 INFO sqlalchemy.engine.base.Engine PRAGMA table_info(\"user_types\")\n",
      "2018-04-27 10:54:30,920 INFO sqlalchemy.engine.base.Engine ()\n",
      "2018-04-27 10:54:30,925 INFO sqlalchemy.engine.base.Engine PRAGMA table_info(\"users\")\n",
      "2018-04-27 10:54:30,927 INFO sqlalchemy.engine.base.Engine ()\n",
      "2018-04-27 10:54:30,930 INFO sqlalchemy.engine.base.Engine \n",
      "CREATE TABLE user_types (\n",
      "\tid INTEGER NOT NULL, \n",
      "\tname VARCHAR, \n",
      "\tPRIMARY KEY (id)\n",
      ")\n",
      "\n",
      "\n",
      "2018-04-27 10:54:30,932 INFO sqlalchemy.engine.base.Engine ()\n",
      "2018-04-27 10:54:30,950 INFO sqlalchemy.engine.base.Engine COMMIT\n",
      "2018-04-27 10:54:30,958 INFO sqlalchemy.engine.base.Engine \n",
      "CREATE TABLE users (\n",
      "\tid INTEGER NOT NULL, \n",
      "\tfirst_name VARCHAR, \n",
      "\tlast_name VARCHAR, \n",
      "\tactive BOOLEAN, \n",
      "\tprofile_id INTEGER, \n",
      "\tPRIMARY KEY (id), \n",
      "\tCHECK (active IN (0, 1)), \n",
      "\tFOREIGN KEY(profile_id) REFERENCES user_types (id)\n",
      ")\n",
      "\n",
      "\n",
      "2018-04-27 10:54:30,965 INFO sqlalchemy.engine.base.Engine ()\n",
      "2018-04-27 10:54:30,976 INFO sqlalchemy.engine.base.Engine COMMIT\n"
     ]
    }
   ],
   "source": [
    "Base.metadata.create_all(engine)"
   ]
  },
  {
   "cell_type": "markdown",
   "metadata": {},
   "source": [
    "Вставим данные"
   ]
  },
  {
   "cell_type": "code",
   "execution_count": 72,
   "metadata": {
    "collapsed": false
   },
   "outputs": [
    {
     "name": "stdout",
     "output_type": "stream",
     "text": [
      "2018-04-27 10:54:31,006 INFO sqlalchemy.engine.base.Engine BEGIN (implicit)\n",
      "2018-04-27 10:54:31,011 INFO sqlalchemy.engine.base.Engine INSERT INTO user_types (name) VALUES (?)\n",
      "2018-04-27 10:54:31,014 INFO sqlalchemy.engine.base.Engine ('teacher',)\n",
      "2018-04-27 10:54:31,020 INFO sqlalchemy.engine.base.Engine INSERT INTO user_types (name) VALUES (?)\n",
      "2018-04-27 10:54:31,023 INFO sqlalchemy.engine.base.Engine ('student',)\n",
      "2018-04-27 10:54:31,027 INFO sqlalchemy.engine.base.Engine COMMIT\n"
     ]
    }
   ],
   "source": [
    "from sqlalchemy.orm import sessionmaker\n",
    "\n",
    "Session = sessionmaker(bind=engine)\n",
    "session = Session()\n",
    "\n",
    "teacher = UserType(name='teacher')\n",
    "session.add(teacher)\n",
    "\n",
    "student = UserType(name='student')\n",
    "session.add(student)\n",
    "\n",
    "session.commit()"
   ]
  },
  {
   "cell_type": "markdown",
   "metadata": {},
   "source": [
    "Найдем тип учителя в базе"
   ]
  },
  {
   "cell_type": "code",
   "execution_count": 114,
   "metadata": {
    "collapsed": false
   },
   "outputs": [
    {
     "name": "stdout",
     "output_type": "stream",
     "text": [
      "2018-04-27 11:30:54,900 INFO sqlalchemy.engine.base.Engine SELECT user_types.id AS user_types_id, user_types.name AS user_types_name \n",
      "FROM user_types \n",
      "WHERE user_types.name = ?\n",
      " LIMIT ? OFFSET ?\n",
      "2018-04-27 11:30:54,902 INFO sqlalchemy.engine.base.Engine ('teacher', 1, 0)\n"
     ]
    },
    {
     "data": {
      "text/plain": [
       "<UserType(name=teacher)>"
      ]
     },
     "execution_count": 114,
     "metadata": {},
     "output_type": "execute_result"
    }
   ],
   "source": [
    "res = session.query(UserType).filter_by(name='teacher').first() \n",
    "res"
   ]
  },
  {
   "cell_type": "code",
   "execution_count": 115,
   "metadata": {
    "collapsed": false
   },
   "outputs": [
    {
     "data": {
      "text/plain": [
       "True"
      ]
     },
     "execution_count": 115,
     "metadata": {},
     "output_type": "execute_result"
    }
   ],
   "source": [
    "teacher is res"
   ]
  },
  {
   "cell_type": "markdown",
   "metadata": {},
   "source": [
    "one vs first"
   ]
  },
  {
   "cell_type": "code",
   "execution_count": 117,
   "metadata": {
    "collapsed": false
   },
   "outputs": [
    {
     "name": "stdout",
     "output_type": "stream",
     "text": [
      "2018-04-27 11:31:24,361 INFO sqlalchemy.engine.base.Engine SELECT user_types.id AS user_types_id, user_types.name AS user_types_name \n",
      "FROM user_types \n",
      "WHERE user_types.name = ?\n",
      "2018-04-27 11:31:24,363 INFO sqlalchemy.engine.base.Engine ('teacher12',)\n"
     ]
    },
    {
     "ename": "NoResultFound",
     "evalue": "No row was found for one()",
     "output_type": "error",
     "traceback": [
      "\u001b[0;31m---------------------------------------------------------------------------\u001b[0m",
      "\u001b[0;31mNoResultFound\u001b[0m                             Traceback (most recent call last)",
      "\u001b[0;32m<ipython-input-117-2d798354b8c8>\u001b[0m in \u001b[0;36m<module>\u001b[0;34m()\u001b[0m\n\u001b[0;32m----> 1\u001b[0;31m \u001b[0msession\u001b[0m\u001b[0;34m.\u001b[0m\u001b[0mquery\u001b[0m\u001b[0;34m(\u001b[0m\u001b[0mUserType\u001b[0m\u001b[0;34m)\u001b[0m\u001b[0;34m.\u001b[0m\u001b[0mfilter_by\u001b[0m\u001b[0;34m(\u001b[0m\u001b[0mname\u001b[0m\u001b[0;34m=\u001b[0m\u001b[0;34m'teacher12'\u001b[0m\u001b[0;34m)\u001b[0m\u001b[0;34m.\u001b[0m\u001b[0mone\u001b[0m\u001b[0;34m(\u001b[0m\u001b[0;34m)\u001b[0m\u001b[0;34m\u001b[0m\u001b[0m\n\u001b[0m",
      "\u001b[0;32m/usr/local/lib/python3.6/site-packages/sqlalchemy/orm/query.py\u001b[0m in \u001b[0;36mone\u001b[0;34m(self)\u001b[0m\n\u001b[1;32m   2888\u001b[0m         \u001b[0;32melse\u001b[0m\u001b[0;34m:\u001b[0m\u001b[0;34m\u001b[0m\u001b[0m\n\u001b[1;32m   2889\u001b[0m             \u001b[0;32mif\u001b[0m \u001b[0mret\u001b[0m \u001b[0;32mis\u001b[0m \u001b[0;32mNone\u001b[0m\u001b[0;34m:\u001b[0m\u001b[0;34m\u001b[0m\u001b[0m\n\u001b[0;32m-> 2890\u001b[0;31m                 \u001b[0;32mraise\u001b[0m \u001b[0morm_exc\u001b[0m\u001b[0;34m.\u001b[0m\u001b[0mNoResultFound\u001b[0m\u001b[0;34m(\u001b[0m\u001b[0;34m\"No row was found for one()\"\u001b[0m\u001b[0;34m)\u001b[0m\u001b[0;34m\u001b[0m\u001b[0m\n\u001b[0m\u001b[1;32m   2891\u001b[0m             \u001b[0;32mreturn\u001b[0m \u001b[0mret\u001b[0m\u001b[0;34m\u001b[0m\u001b[0m\n\u001b[1;32m   2892\u001b[0m \u001b[0;34m\u001b[0m\u001b[0m\n",
      "\u001b[0;31mNoResultFound\u001b[0m: No row was found for one()"
     ]
    }
   ],
   "source": [
    "session.query(UserType).filter_by(name='teacher12').one() "
   ]
  },
  {
   "cell_type": "code",
   "execution_count": 118,
   "metadata": {
    "collapsed": false
   },
   "outputs": [
    {
     "name": "stdout",
     "output_type": "stream",
     "text": [
      "2018-04-27 11:31:36,679 INFO sqlalchemy.engine.base.Engine SELECT user_types.id AS user_types_id, user_types.name AS user_types_name \n",
      "FROM user_types\n",
      "2018-04-27 11:31:36,681 INFO sqlalchemy.engine.base.Engine ()\n"
     ]
    },
    {
     "ename": "MultipleResultsFound",
     "evalue": "Multiple rows were found for one()",
     "output_type": "error",
     "traceback": [
      "\u001b[0;31m---------------------------------------------------------------------------\u001b[0m",
      "\u001b[0;31mMultipleResultsFound\u001b[0m                      Traceback (most recent call last)",
      "\u001b[0;32m/usr/local/lib/python3.6/site-packages/sqlalchemy/orm/query.py\u001b[0m in \u001b[0;36mone\u001b[0;34m(self)\u001b[0m\n\u001b[1;32m   2883\u001b[0m         \u001b[0;32mtry\u001b[0m\u001b[0;34m:\u001b[0m\u001b[0;34m\u001b[0m\u001b[0m\n\u001b[0;32m-> 2884\u001b[0;31m             \u001b[0mret\u001b[0m \u001b[0;34m=\u001b[0m \u001b[0mself\u001b[0m\u001b[0;34m.\u001b[0m\u001b[0mone_or_none\u001b[0m\u001b[0;34m(\u001b[0m\u001b[0;34m)\u001b[0m\u001b[0;34m\u001b[0m\u001b[0m\n\u001b[0m\u001b[1;32m   2885\u001b[0m         \u001b[0;32mexcept\u001b[0m \u001b[0morm_exc\u001b[0m\u001b[0;34m.\u001b[0m\u001b[0mMultipleResultsFound\u001b[0m\u001b[0;34m:\u001b[0m\u001b[0;34m\u001b[0m\u001b[0m\n",
      "\u001b[0;32m/usr/local/lib/python3.6/site-packages/sqlalchemy/orm/query.py\u001b[0m in \u001b[0;36mone_or_none\u001b[0;34m(self)\u001b[0m\n\u001b[1;32m   2862\u001b[0m             raise orm_exc.MultipleResultsFound(\n\u001b[0;32m-> 2863\u001b[0;31m                 \"Multiple rows were found for one_or_none()\")\n\u001b[0m\u001b[1;32m   2864\u001b[0m \u001b[0;34m\u001b[0m\u001b[0m\n",
      "\u001b[0;31mMultipleResultsFound\u001b[0m: Multiple rows were found for one_or_none()",
      "\nDuring handling of the above exception, another exception occurred:\n",
      "\u001b[0;31mMultipleResultsFound\u001b[0m                      Traceback (most recent call last)",
      "\u001b[0;32m<ipython-input-118-e227f815abcf>\u001b[0m in \u001b[0;36m<module>\u001b[0;34m()\u001b[0m\n\u001b[0;32m----> 1\u001b[0;31m \u001b[0msession\u001b[0m\u001b[0;34m.\u001b[0m\u001b[0mquery\u001b[0m\u001b[0;34m(\u001b[0m\u001b[0mUserType\u001b[0m\u001b[0;34m)\u001b[0m\u001b[0;34m.\u001b[0m\u001b[0mone\u001b[0m\u001b[0;34m(\u001b[0m\u001b[0;34m)\u001b[0m\u001b[0;34m\u001b[0m\u001b[0m\n\u001b[0m",
      "\u001b[0;32m/usr/local/lib/python3.6/site-packages/sqlalchemy/orm/query.py\u001b[0m in \u001b[0;36mone\u001b[0;34m(self)\u001b[0m\n\u001b[1;32m   2885\u001b[0m         \u001b[0;32mexcept\u001b[0m \u001b[0morm_exc\u001b[0m\u001b[0;34m.\u001b[0m\u001b[0mMultipleResultsFound\u001b[0m\u001b[0;34m:\u001b[0m\u001b[0;34m\u001b[0m\u001b[0m\n\u001b[1;32m   2886\u001b[0m             raise orm_exc.MultipleResultsFound(\n\u001b[0;32m-> 2887\u001b[0;31m                 \"Multiple rows were found for one()\")\n\u001b[0m\u001b[1;32m   2888\u001b[0m         \u001b[0;32melse\u001b[0m\u001b[0;34m:\u001b[0m\u001b[0;34m\u001b[0m\u001b[0m\n\u001b[1;32m   2889\u001b[0m             \u001b[0;32mif\u001b[0m \u001b[0mret\u001b[0m \u001b[0;32mis\u001b[0m \u001b[0;32mNone\u001b[0m\u001b[0;34m:\u001b[0m\u001b[0;34m\u001b[0m\u001b[0m\n",
      "\u001b[0;31mMultipleResultsFound\u001b[0m: Multiple rows were found for one()"
     ]
    }
   ],
   "source": [
    "session.query(UserType).one() "
   ]
  },
  {
   "cell_type": "markdown",
   "metadata": {},
   "source": [
    "Разные виды \"select\""
   ]
  },
  {
   "cell_type": "code",
   "execution_count": 120,
   "metadata": {
    "collapsed": false
   },
   "outputs": [
    {
     "name": "stdout",
     "output_type": "stream",
     "text": [
      "2018-04-27 11:32:48,530 INFO sqlalchemy.engine.base.Engine SELECT user_types.id AS user_types_id, user_types.name AS user_types_name \n",
      "FROM user_types ORDER BY user_types.id\n",
      "2018-04-27 11:32:48,532 INFO sqlalchemy.engine.base.Engine ()\n",
      "<class 'list'>\n",
      "[<UserType(name=teacher)>, <UserType(name=student)>]\n"
     ]
    }
   ],
   "source": [
    "results = session.query(UserType).order_by(UserType.id).all()\n",
    "print(type(results))\n",
    "print(results)"
   ]
  },
  {
   "cell_type": "code",
   "execution_count": 121,
   "metadata": {
    "collapsed": false
   },
   "outputs": [
    {
     "name": "stdout",
     "output_type": "stream",
     "text": [
      "2018-04-27 11:32:48,718 INFO sqlalchemy.engine.base.Engine SELECT user_types.name AS user_types_name, user_types.id AS user_types_id \n",
      "FROM user_types ORDER BY user_types.name\n",
      "2018-04-27 11:32:48,719 INFO sqlalchemy.engine.base.Engine ()\n",
      "student 2\n",
      "teacher 1\n"
     ]
    }
   ],
   "source": [
    "for name, user_id in session.query(UserType.name, UserType.id).order_by(UserType.name):\n",
    "    print(name, user_id)"
   ]
  },
  {
   "cell_type": "markdown",
   "metadata": {},
   "source": [
    "Добавим нового учителя"
   ]
  },
  {
   "cell_type": "code",
   "execution_count": 122,
   "metadata": {
    "collapsed": false
   },
   "outputs": [
    {
     "name": "stdout",
     "output_type": "stream",
     "text": [
      "2018-04-27 11:32:49,102 INFO sqlalchemy.engine.base.Engine INSERT INTO users (first_name, last_name, active, profile_id) VALUES (?, ?, ?, ?)\n",
      "2018-04-27 11:32:49,104 INFO sqlalchemy.engine.base.Engine ('Maxim', 'Popov', 1, 1)\n",
      "2018-04-27 11:32:49,107 INFO sqlalchemy.engine.base.Engine COMMIT\n"
     ]
    }
   ],
   "source": [
    "#(\"Maxim\", \"Popov\", 1, (SELECT id FROM user_types WHERE name = \"Teacher\")\n",
    "user = User(first_name=\"Maxim\", last_name=\"Popov\", active=True)\n",
    "teacher.users.append(user)\n",
    "session.add(user)\n",
    "session.commit()"
   ]
  },
  {
   "cell_type": "code",
   "execution_count": 77,
   "metadata": {
    "collapsed": false
   },
   "outputs": [
    {
     "name": "stdout",
     "output_type": "stream",
     "text": [
      "2018-04-27 10:56:12,429 INFO sqlalchemy.engine.base.Engine INSERT INTO users (first_name, last_name, active, profile_id) VALUES (?, ?, ?, ?)\n",
      "2018-04-27 10:56:12,431 INFO sqlalchemy.engine.base.Engine ('Maxim', 'Popov', 1, 1)\n",
      "2018-04-27 10:56:12,434 INFO sqlalchemy.engine.base.Engine SELECT users.id AS users_id, users.first_name AS users_first_name, users.last_name AS users_last_name, users.active AS users_active, users.profile_id AS users_profile_id \n",
      "FROM users\n",
      " LIMIT ? OFFSET ?\n",
      "2018-04-27 10:56:12,435 INFO sqlalchemy.engine.base.Engine (1, 0)\n"
     ]
    },
    {
     "data": {
      "text/plain": [
       "<User(first_name=Maxim, last_name=Popov, active=True)>"
      ]
     },
     "execution_count": 77,
     "metadata": {},
     "output_type": "execute_result"
    }
   ],
   "source": [
    "res = session.query(User).first() \n",
    "res"
   ]
  },
  {
   "cell_type": "code",
   "execution_count": 84,
   "metadata": {
    "collapsed": false
   },
   "outputs": [
    {
     "data": {
      "text/plain": [
       "<UserType(name=teacher)>"
      ]
     },
     "execution_count": 84,
     "metadata": {},
     "output_type": "execute_result"
    }
   ],
   "source": [
    "res.profile"
   ]
  },
  {
   "cell_type": "markdown",
   "metadata": {},
   "source": [
    "Добавим студента"
   ]
  },
  {
   "cell_type": "code",
   "execution_count": 79,
   "metadata": {
    "collapsed": false
   },
   "outputs": [
    {
     "name": "stdout",
     "output_type": "stream",
     "text": [
      "2018-04-27 10:59:05,636 INFO sqlalchemy.engine.base.Engine SELECT user_types.id AS user_types_id, user_types.name AS user_types_name \n",
      "FROM user_types \n",
      "WHERE user_types.id = ?\n",
      "2018-04-27 10:59:05,638 INFO sqlalchemy.engine.base.Engine (2,)\n",
      "2018-04-27 10:59:05,641 INFO sqlalchemy.engine.base.Engine INSERT INTO users (first_name, last_name, active, profile_id) VALUES (?, ?, ?, ?)\n",
      "2018-04-27 10:59:05,642 INFO sqlalchemy.engine.base.Engine ('Petr', 'Sidorov', 0, 2)\n",
      "2018-04-27 10:59:05,644 INFO sqlalchemy.engine.base.Engine COMMIT\n"
     ]
    }
   ],
   "source": [
    "user = User(first_name=\"Petr\", last_name=\"Sidorov\", active=False, profile=student)\n",
    "session.add(user)\n",
    "session.commit()"
   ]
  },
  {
   "cell_type": "code",
   "execution_count": 80,
   "metadata": {
    "collapsed": false
   },
   "outputs": [
    {
     "name": "stdout",
     "output_type": "stream",
     "text": [
      "2018-04-27 11:00:00,441 INFO sqlalchemy.engine.base.Engine BEGIN (implicit)\n",
      "2018-04-27 11:00:00,443 INFO sqlalchemy.engine.base.Engine SELECT user_types.id AS user_types_id, user_types.name AS user_types_name \n",
      "FROM user_types \n",
      "WHERE user_types.id = ?\n",
      "2018-04-27 11:00:00,445 INFO sqlalchemy.engine.base.Engine (2,)\n",
      "2018-04-27 11:00:00,448 INFO sqlalchemy.engine.base.Engine SELECT users.id AS users_id, users.first_name AS users_first_name, users.last_name AS users_last_name, users.active AS users_active, users.profile_id AS users_profile_id \n",
      "FROM users \n",
      "WHERE ? = users.profile_id\n",
      "2018-04-27 11:00:00,449 INFO sqlalchemy.engine.base.Engine (2,)\n"
     ]
    },
    {
     "data": {
      "text/plain": [
       "[<User(first_name=Petr, last_name=Sidorov, active=False)>]"
      ]
     },
     "execution_count": 80,
     "metadata": {},
     "output_type": "execute_result"
    }
   ],
   "source": [
    "student.users"
   ]
  },
  {
   "cell_type": "markdown",
   "metadata": {},
   "source": [
    "Сделаем его учителем"
   ]
  },
  {
   "cell_type": "code",
   "execution_count": 81,
   "metadata": {
    "collapsed": false
   },
   "outputs": [
    {
     "name": "stdout",
     "output_type": "stream",
     "text": [
      "2018-04-27 11:02:57,968 INFO sqlalchemy.engine.base.Engine SELECT user_types.id AS user_types_id, user_types.name AS user_types_name \n",
      "FROM user_types \n",
      "WHERE user_types.id = ?\n",
      "2018-04-27 11:02:57,970 INFO sqlalchemy.engine.base.Engine (1,)\n",
      "2018-04-27 11:02:57,973 INFO sqlalchemy.engine.base.Engine UPDATE users SET profile_id=? WHERE users.id = ?\n",
      "2018-04-27 11:02:57,975 INFO sqlalchemy.engine.base.Engine (1, 2)\n",
      "2018-04-27 11:02:57,977 INFO sqlalchemy.engine.base.Engine COMMIT\n"
     ]
    }
   ],
   "source": [
    "user.profile = teacher\n",
    "session.commit()"
   ]
  },
  {
   "cell_type": "code",
   "execution_count": 82,
   "metadata": {
    "collapsed": false
   },
   "outputs": [
    {
     "name": "stdout",
     "output_type": "stream",
     "text": [
      "2018-04-27 11:03:07,398 INFO sqlalchemy.engine.base.Engine BEGIN (implicit)\n",
      "2018-04-27 11:03:07,400 INFO sqlalchemy.engine.base.Engine SELECT user_types.id AS user_types_id, user_types.name AS user_types_name \n",
      "FROM user_types \n",
      "WHERE user_types.id = ?\n",
      "2018-04-27 11:03:07,402 INFO sqlalchemy.engine.base.Engine (2,)\n",
      "2018-04-27 11:03:07,404 INFO sqlalchemy.engine.base.Engine SELECT users.id AS users_id, users.first_name AS users_first_name, users.last_name AS users_last_name, users.active AS users_active, users.profile_id AS users_profile_id \n",
      "FROM users \n",
      "WHERE ? = users.profile_id\n",
      "2018-04-27 11:03:07,405 INFO sqlalchemy.engine.base.Engine (2,)\n"
     ]
    },
    {
     "data": {
      "text/plain": [
       "[]"
      ]
     },
     "execution_count": 82,
     "metadata": {},
     "output_type": "execute_result"
    }
   ],
   "source": [
    "student.users"
   ]
  },
  {
   "cell_type": "code",
   "execution_count": 83,
   "metadata": {
    "collapsed": false
   },
   "outputs": [
    {
     "name": "stdout",
     "output_type": "stream",
     "text": [
      "2018-04-27 11:03:13,171 INFO sqlalchemy.engine.base.Engine SELECT user_types.id AS user_types_id, user_types.name AS user_types_name \n",
      "FROM user_types \n",
      "WHERE user_types.id = ?\n",
      "2018-04-27 11:03:13,173 INFO sqlalchemy.engine.base.Engine (1,)\n",
      "2018-04-27 11:03:13,175 INFO sqlalchemy.engine.base.Engine SELECT users.id AS users_id, users.first_name AS users_first_name, users.last_name AS users_last_name, users.active AS users_active, users.profile_id AS users_profile_id \n",
      "FROM users \n",
      "WHERE ? = users.profile_id\n",
      "2018-04-27 11:03:13,177 INFO sqlalchemy.engine.base.Engine (1,)\n"
     ]
    },
    {
     "data": {
      "text/plain": [
       "[<User(first_name=Maxim, last_name=Popov, active=True)>,\n",
       " <User(first_name=Petr, last_name=Sidorov, active=False)>]"
      ]
     },
     "execution_count": 83,
     "metadata": {},
     "output_type": "execute_result"
    }
   ],
   "source": [
    "teacher.users"
   ]
  },
  {
   "cell_type": "markdown",
   "metadata": {},
   "source": [
    "Какая еще бывает фильтрация?"
   ]
  },
  {
   "cell_type": "code",
   "execution_count": 119,
   "metadata": {
    "collapsed": false
   },
   "outputs": [
    {
     "data": {
      "text/plain": [
       "<sqlalchemy.orm.query.Query at 0x10677f5f8>"
      ]
     },
     "execution_count": 119,
     "metadata": {},
     "output_type": "execute_result"
    }
   ],
   "source": [
    "# equals\n",
    "session.query(UserType).filter(UserType.name == 'teacher')\n",
    "# not equals\n",
    "session.query(UserType).filter(UserType.name != 'teacher')\n",
    "# LIKE\n",
    "session.query(UserType).filter(UserType.name.like('%tea%'))\n",
    "# ILIKE (case-insensitive LIKE):\n",
    "session.query(UserType).filter(UserType.name.ilike('%TeA%'))\n",
    "# IS NULL\n",
    "session.query(UserType).filter(UserType.name.is_(None))\n",
    "# IS NOT NULL\n",
    "session.query(UserType).filter(UserType.name.isnot(None))\n",
    "              \n",
    "from sqlalchemy import and_\n",
    "#AND\n",
    "session.query(UserType).filter(and_(UserType.name.isnot(None), UserType.name != 'abc'))\n",
    "session.query(UserType).filter(UserType.name.isnot(None), UserType.name != 'abc')\n",
    "session.query(UserType).filter(UserType.name.isnot(None)).filter(UserType.name != 'abc')\n",
    "\n",
    "#OR\n",
    "from sqlalchemy import or_\n",
    "session.query(UserType).filter(or_(UserType.name.isnot(None), UserType.name != 'abc'))"
   ]
  },
  {
   "cell_type": "code",
   "execution_count": 127,
   "metadata": {
    "collapsed": false
   },
   "outputs": [
    {
     "name": "stdout",
     "output_type": "stream",
     "text": [
      "2018-04-27 11:38:10,395 INFO sqlalchemy.engine.base.Engine BEGIN (implicit)\n",
      "2018-04-27 11:38:10,398 INFO sqlalchemy.engine.base.Engine SELECT users.id AS users_id, users.first_name AS users_first_name, users.last_name AS users_last_name, users.active AS users_active, users.profile_id AS users_profile_id \n",
      "FROM users \n",
      "WHERE users.profile_id IN (SELECT user_types.id AS user_types_id \n",
      "FROM user_types)\n",
      "2018-04-27 11:38:10,399 INFO sqlalchemy.engine.base.Engine ()\n"
     ]
    },
    {
     "data": {
      "text/plain": [
       "[<User(first_name=Maxim, last_name=Popov, active=True)>,\n",
       " <User(first_name=Petr, last_name=Sidorov, active=False)>,\n",
       " <User(first_name=Maxim, last_name=Popov, active=True)>]"
      ]
     },
     "execution_count": 127,
     "metadata": {},
     "output_type": "execute_result"
    }
   ],
   "source": [
    "#IN\n",
    "session.query(User).filter(User.profile_id.in_(\n",
    "    session.query(UserType.id)\n",
    ")).all()"
   ]
  },
  {
   "cell_type": "code",
   "execution_count": null,
   "metadata": {
    "collapsed": true
   },
   "outputs": [],
   "source": []
  }
 ],
 "metadata": {
  "kernelspec": {
   "display_name": "Python 3",
   "language": "python",
   "name": "python3"
  },
  "language_info": {
   "codemirror_mode": {
    "name": "ipython",
    "version": 3
   },
   "file_extension": ".py",
   "mimetype": "text/x-python",
   "name": "python",
   "nbconvert_exporter": "python",
   "pygments_lexer": "ipython3",
   "version": "3.6.5"
  }
 },
 "nbformat": 4,
 "nbformat_minor": 2
}
