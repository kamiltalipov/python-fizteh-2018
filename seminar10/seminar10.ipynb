{
 "cells": [
  {
   "cell_type": "markdown",
   "metadata": {
    "deletable": true,
    "editable": true
   },
   "source": [
    "# Seminar 10\n",
    "## Web, Flask, Telegram"
   ]
  },
  {
   "cell_type": "markdown",
   "metadata": {
    "deletable": true,
    "editable": true
   },
   "source": [
    "# Plan\n",
    "\n",
    "1. Web service architecture\n",
    "    * Backend/frontend\n",
    "    * Balancers/workers/DB\n",
    "* Blocking/nonblocking server\n",
    "    * Linux sockets\n",
    "    * Blocking IO server\n",
    "    * Nonblocking IO server\n",
    "* Flask\n",
    "* Telegram bot"
   ]
  },
  {
   "cell_type": "markdown",
   "metadata": {
    "deletable": true,
    "editable": true
   },
   "source": [
    "# Frontend/Backend\n",
    "\n",
    "![](images/backend-frontend.png)"
   ]
  },
  {
   "cell_type": "markdown",
   "metadata": {
    "deletable": true,
    "editable": true
   },
   "source": [
    "# Frontend\n",
    "![](images/frontend.png)"
   ]
  },
  {
   "cell_type": "markdown",
   "metadata": {
    "deletable": true,
    "editable": true
   },
   "source": [
    "# Backend\n",
    "![](images/backend.png)"
   ]
  },
  {
   "cell_type": "markdown",
   "metadata": {
    "deletable": true,
    "editable": true
   },
   "source": [
    "# Large service architecture\n",
    "В сервисах с большой нагрузкой очень часто используется балансировка и горизонтальное масштабирование\n",
    "![](images/balancer.png)"
   ]
  },
  {
   "cell_type": "markdown",
   "metadata": {
    "deletable": true,
    "editable": true
   },
   "source": [
    "# Network sockets"
   ]
  },
  {
   "cell_type": "markdown",
   "metadata": {
    "deletable": true,
    "editable": true
   },
   "source": [
    "Сокет (англ. socket — разъём) — название программного интерфейса для обеспечения обмена данными между процессами.\n",
    "\n",
    "![](images/socket.png)"
   ]
  },
  {
   "cell_type": "markdown",
   "metadata": {
    "deletable": true,
    "editable": true
   },
   "source": [
    "# Blocking IO\n",
    "В блокирующем режиме на каждое соединение создается отдельный поток, из-за чего происходит большое выделение ресурсов на клиентов и большинство потоков просто ждут данных.\n",
    "\n",
    "\n",
    "![](images/thread-pool.png)\n",
    "![](images/apache.png)"
   ]
  },
  {
   "cell_type": "markdown",
   "metadata": {
    "deletable": true,
    "editable": true
   },
   "source": [
    "# NonBlocking IO\n",
    "\n",
    "В данном режиме есть только один поток, который ждет пока кто-нибудь из клиентов пришлет данные всего запроса полностью и после только исполняет его. Поток на каждый запрос не создается.\n",
    "\n",
    "\n",
    "![](images/non-blocking.png)\n",
    "![](images/nginx.png)"
   ]
  },
  {
   "cell_type": "markdown",
   "metadata": {
    "deletable": true,
    "editable": true
   },
   "source": [
    "# Flask\n",
    "\n",
    "![](images/flask.png)"
   ]
  },
  {
   "cell_type": "markdown",
   "metadata": {
    "deletable": true,
    "editable": true
   },
   "source": [
    "Look at webapp.py\n",
    "\n",
    "To run:\n",
    "\n",
    "> export FLASK_APP=webapp.py<br />\n",
    "> flask run"
   ]
  },
  {
   "cell_type": "markdown",
   "metadata": {
    "deletable": true,
    "editable": true
   },
   "source": [
    "Go through http://flask.pocoo.org/docs/0.12/quickstart/"
   ]
  },
  {
   "cell_type": "markdown",
   "metadata": {
    "deletable": true,
    "editable": true
   },
   "source": [
    "# Telegram bot\n",
    "\n",
    "![](images/telegram.jpg)\n",
    "\n",
    "\n",
    "https://github.com/python-telegram-bot/python-telegram-bot\n",
    "\n",
    "!pip install python-telegram-bot\n",
    "\n",
    "Whatch example here https://github.com/python-telegram-bot/python-telegram-bot/blob/master/examples/echobot2.py"
   ]
  },
  {
   "cell_type": "code",
   "execution_count": null,
   "metadata": {
    "collapsed": true,
    "deletable": true,
    "editable": true
   },
   "outputs": [],
   "source": [
    "from telegram.ext import Updater, CommandHandler, MessageHandler, Filters\n",
    "import logging\n",
    "\n",
    "# Enable logging\n",
    "logging.basicConfig(format='%(asctime)s - %(name)s - %(levelname)s - %(message)s',\n",
    "                    level=logging.INFO)\n",
    "\n",
    "logger = logging.getLogger(__name__)\n",
    "\n",
    "\n",
    "# Define a few command handlers. These usually take the two arguments bot and\n",
    "# update. Error handlers also receive the raised TelegramError object in error.\n",
    "def start(bot, update):\n",
    "    \"\"\"Send a message when the command /start is issued.\"\"\"\n",
    "    update.message.reply_text('Hi!')\n",
    "\n",
    "\n",
    "def help(bot, update):\n",
    "    \"\"\"Send a message when the command /help is issued.\"\"\"\n",
    "    update.message.reply_text('Help!')\n",
    "\n",
    "\n",
    "def echo(bot, update):\n",
    "    \"\"\"Echo the user message.\"\"\"\n",
    "    update.message.reply_text(update.message.text)\n",
    "\n",
    "\n",
    "def error(bot, update, error):\n",
    "    \"\"\"Log Errors caused by Updates.\"\"\"\n",
    "    logger.warning('Update \"%s\" caused error \"%s\"', update, error)\n",
    "\n",
    "\n",
    "def main():\n",
    "    \"\"\"Start the bot.\"\"\"\n",
    "    # Create the EventHandler and pass it your bot's token.\n",
    "    updater = Updater(\"TOKEN\")\n",
    "\n",
    "    # Get the dispatcher to register handlers\n",
    "    dp = updater.dispatcher\n",
    "\n",
    "    # on different commands - answer in Telegram\n",
    "    dp.add_handler(CommandHandler(\"start\", start))\n",
    "    dp.add_handler(CommandHandler(\"help\", help))\n",
    "\n",
    "    # on noncommand i.e message - echo the message on Telegram\n",
    "    dp.add_handler(MessageHandler(Filters.text, echo))\n",
    "\n",
    "    # log all errors\n",
    "    dp.add_error_handler(error)\n",
    "\n",
    "    # Start the Bot\n",
    "    updater.start_polling()\n",
    "\n",
    "    # Run the bot until you press Ctrl-C or the process receives SIGINT,\n",
    "    # SIGTERM or SIGABRT. This should be used most of the time, since\n",
    "    # start_polling() is non-blocking and will stop the bot gracefully.\n",
    "    updater.idle()"
   ]
  },
  {
   "cell_type": "markdown",
   "metadata": {
    "deletable": true,
    "editable": true
   },
   "source": [
    "Еще больше разнообразных примеров можно найти тут: https://github.com/python-telegram-bot/python-telegram-bot/blob/master/examples\n",
    "Документация: https://github.com/python-telegram-bot/python-telegram-bot/wiki"
   ]
  },
  {
   "cell_type": "code",
   "execution_count": null,
   "metadata": {
    "collapsed": true,
    "deletable": true,
    "editable": true
   },
   "outputs": [],
   "source": []
  }
 ],
 "metadata": {
  "kernelspec": {
   "display_name": "Python 3",
   "language": "python",
   "name": "python3"
  },
  "language_info": {
   "codemirror_mode": {
    "name": "ipython",
    "version": 3
   },
   "file_extension": ".py",
   "mimetype": "text/x-python",
   "name": "python",
   "nbconvert_exporter": "python",
   "pygments_lexer": "ipython3",
   "version": "3.6.5"
  }
 },
 "nbformat": 4,
 "nbformat_minor": 2
}
